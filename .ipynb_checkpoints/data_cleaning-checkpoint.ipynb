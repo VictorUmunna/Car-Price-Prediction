{
 "cells": [
  {
   "cell_type": "code",
   "execution_count": 45,
   "metadata": {},
   "outputs": [],
   "source": [
    "# import modules and libraries\n",
    "import pandas as pd\n",
    "import numpy as np\n",
    "import matplotlib.pyplot as plt\n",
    "import seaborn as sns"
   ]
  },
  {
   "cell_type": "code",
   "execution_count": 46,
   "metadata": {},
   "outputs": [
    {
     "data": {
      "text/html": [
       "<div>\n",
       "<style scoped>\n",
       "    .dataframe tbody tr th:only-of-type {\n",
       "        vertical-align: middle;\n",
       "    }\n",
       "\n",
       "    .dataframe tbody tr th {\n",
       "        vertical-align: top;\n",
       "    }\n",
       "\n",
       "    .dataframe thead th {\n",
       "        text-align: right;\n",
       "    }\n",
       "</style>\n",
       "<table border=\"1\" class=\"dataframe\">\n",
       "  <thead>\n",
       "    <tr style=\"text-align: right;\">\n",
       "      <th></th>\n",
       "      <th>name</th>\n",
       "      <th>price</th>\n",
       "      <th>mileage</th>\n",
       "    </tr>\n",
       "  </thead>\n",
       "  <tbody>\n",
       "    <tr>\n",
       "      <th>0</th>\n",
       "      <td>1999 HONDA CR-V LX</td>\n",
       "      <td>$ 950</td>\n",
       "      <td>284394.0</td>\n",
       "    </tr>\n",
       "    <tr>\n",
       "      <th>1</th>\n",
       "      <td>2002 ISUZU RODEO S</td>\n",
       "      <td>$ 850</td>\n",
       "      <td>148883.0</td>\n",
       "    </tr>\n",
       "    <tr>\n",
       "      <th>2</th>\n",
       "      <td>2002 HYUNDAI SANTA FE GLS/LX Wagon 4 Door</td>\n",
       "      <td>$ 1,000</td>\n",
       "      <td>238042.0</td>\n",
       "    </tr>\n",
       "    <tr>\n",
       "      <th>3</th>\n",
       "      <td>1991 CHEVROLET GMT-400 K1</td>\n",
       "      <td>$ 500</td>\n",
       "      <td>207094.0</td>\n",
       "    </tr>\n",
       "    <tr>\n",
       "      <th>4</th>\n",
       "      <td>1996 CHEVROLET GMT-400 C1</td>\n",
       "      <td>$ 800</td>\n",
       "      <td>176638.0</td>\n",
       "    </tr>\n",
       "    <tr>\n",
       "      <th>5</th>\n",
       "      <td>2003 HONDA CIVIC EX Sedan 4 Door</td>\n",
       "      <td>$ 650</td>\n",
       "      <td>183295.0</td>\n",
       "    </tr>\n",
       "    <tr>\n",
       "      <th>6</th>\n",
       "      <td>2002 ISUZU AXIOM XS</td>\n",
       "      <td>$ 750</td>\n",
       "      <td>218217.0</td>\n",
       "    </tr>\n",
       "    <tr>\n",
       "      <th>7</th>\n",
       "      <td>2003 HONDA CIVIC HYBR</td>\n",
       "      <td>$ 850</td>\n",
       "      <td>106623.0</td>\n",
       "    </tr>\n",
       "    <tr>\n",
       "      <th>8</th>\n",
       "      <td>1999 HONDA ACCORD EX Sedan 4 Door</td>\n",
       "      <td>$ 550</td>\n",
       "      <td>284850.0</td>\n",
       "    </tr>\n",
       "    <tr>\n",
       "      <th>9</th>\n",
       "      <td>1995 HONDA CIVIC DX</td>\n",
       "      <td>$ 600</td>\n",
       "      <td>117312.0</td>\n",
       "    </tr>\n",
       "  </tbody>\n",
       "</table>\n",
       "</div>"
      ],
      "text/plain": [
       "                                        name    price   mileage\n",
       "0                         1999 HONDA CR-V LX    $ 950  284394.0\n",
       "1                         2002 ISUZU RODEO S    $ 850  148883.0\n",
       "2  2002 HYUNDAI SANTA FE GLS/LX Wagon 4 Door  $ 1,000  238042.0\n",
       "3                  1991 CHEVROLET GMT-400 K1    $ 500  207094.0\n",
       "4                  1996 CHEVROLET GMT-400 C1    $ 800  176638.0\n",
       "5           2003 HONDA CIVIC EX Sedan 4 Door    $ 650  183295.0\n",
       "6                        2002 ISUZU AXIOM XS    $ 750  218217.0\n",
       "7                      2003 HONDA CIVIC HYBR    $ 850  106623.0\n",
       "8          1999 HONDA ACCORD EX Sedan 4 Door    $ 550  284850.0\n",
       "9                        1995 HONDA CIVIC DX    $ 600  117312.0"
      ]
     },
     "execution_count": 46,
     "metadata": {},
     "output_type": "execute_result"
    }
   ],
   "source": [
    "data = pd.read_csv('car_data.csv')\n",
    "data.head(10)"
   ]
  },
  {
   "cell_type": "code",
   "execution_count": 47,
   "metadata": {},
   "outputs": [
    {
     "data": {
      "text/plain": [
       "(2401, 3)"
      ]
     },
     "execution_count": 47,
     "metadata": {},
     "output_type": "execute_result"
    }
   ],
   "source": [
    "data.shape"
   ]
  },
  {
   "cell_type": "code",
   "execution_count": 48,
   "metadata": {},
   "outputs": [
    {
     "name": "stdout",
     "output_type": "stream",
     "text": [
      "<class 'pandas.core.frame.DataFrame'>\n",
      "RangeIndex: 2401 entries, 0 to 2400\n",
      "Data columns (total 3 columns):\n",
      " #   Column   Non-Null Count  Dtype  \n",
      "---  ------   --------------  -----  \n",
      " 0   name     2401 non-null   object \n",
      " 1   price    2401 non-null   object \n",
      " 2   mileage  2401 non-null   float64\n",
      "dtypes: float64(1), object(2)\n",
      "memory usage: 56.4+ KB\n"
     ]
    }
   ],
   "source": [
    "data.info()"
   ]
  },
  {
   "cell_type": "code",
   "execution_count": 49,
   "metadata": {},
   "outputs": [
    {
     "data": {
      "text/plain": [
       "0        HONDA\n",
       "1        ISUZU\n",
       "2      HYUNDAI\n",
       "3    CHEVROLET\n",
       "4    CHEVROLET\n",
       "Name: model, dtype: object"
      ]
     },
     "execution_count": 49,
     "metadata": {},
     "output_type": "execute_result"
    }
   ],
   "source": [
    "data['model'] = data['name'].apply(lambda x: x.split(' ')[1])\n",
    "data['model'].head()"
   ]
  },
  {
   "cell_type": "code",
   "execution_count": 50,
   "metadata": {},
   "outputs": [
    {
     "data": {
      "text/plain": [
       "0    1999\n",
       "1    2002\n",
       "2    2002\n",
       "3    1991\n",
       "4    1996\n",
       "Name: year, dtype: object"
      ]
     },
     "execution_count": 50,
     "metadata": {},
     "output_type": "execute_result"
    }
   ],
   "source": [
    "data['year'] = data['name'].apply(lambda x: x.split(' ')[0])\n",
    "data['year'].head()"
   ]
  },
  {
   "cell_type": "code",
   "execution_count": 51,
   "metadata": {},
   "outputs": [
    {
     "data": {
      "text/html": [
       "<div>\n",
       "<style scoped>\n",
       "    .dataframe tbody tr th:only-of-type {\n",
       "        vertical-align: middle;\n",
       "    }\n",
       "\n",
       "    .dataframe tbody tr th {\n",
       "        vertical-align: top;\n",
       "    }\n",
       "\n",
       "    .dataframe thead th {\n",
       "        text-align: right;\n",
       "    }\n",
       "</style>\n",
       "<table border=\"1\" class=\"dataframe\">\n",
       "  <thead>\n",
       "    <tr style=\"text-align: right;\">\n",
       "      <th></th>\n",
       "      <th>name</th>\n",
       "      <th>price</th>\n",
       "      <th>mileage</th>\n",
       "      <th>model</th>\n",
       "      <th>year</th>\n",
       "    </tr>\n",
       "  </thead>\n",
       "  <tbody>\n",
       "    <tr>\n",
       "      <th>0</th>\n",
       "      <td>1999 HONDA CR-V LX</td>\n",
       "      <td>$ 950</td>\n",
       "      <td>284394.0</td>\n",
       "      <td>HONDA</td>\n",
       "      <td>1999</td>\n",
       "    </tr>\n",
       "    <tr>\n",
       "      <th>1</th>\n",
       "      <td>2002 ISUZU RODEO S</td>\n",
       "      <td>$ 850</td>\n",
       "      <td>148883.0</td>\n",
       "      <td>ISUZU</td>\n",
       "      <td>2002</td>\n",
       "    </tr>\n",
       "    <tr>\n",
       "      <th>2</th>\n",
       "      <td>2002 HYUNDAI SANTA FE GLS/LX Wagon 4 Door</td>\n",
       "      <td>$ 1,000</td>\n",
       "      <td>238042.0</td>\n",
       "      <td>HYUNDAI</td>\n",
       "      <td>2002</td>\n",
       "    </tr>\n",
       "    <tr>\n",
       "      <th>3</th>\n",
       "      <td>1991 CHEVROLET GMT-400 K1</td>\n",
       "      <td>$ 500</td>\n",
       "      <td>207094.0</td>\n",
       "      <td>CHEVROLET</td>\n",
       "      <td>1991</td>\n",
       "    </tr>\n",
       "    <tr>\n",
       "      <th>4</th>\n",
       "      <td>1996 CHEVROLET GMT-400 C1</td>\n",
       "      <td>$ 800</td>\n",
       "      <td>176638.0</td>\n",
       "      <td>CHEVROLET</td>\n",
       "      <td>1996</td>\n",
       "    </tr>\n",
       "  </tbody>\n",
       "</table>\n",
       "</div>"
      ],
      "text/plain": [
       "                                        name    price   mileage      model  \\\n",
       "0                         1999 HONDA CR-V LX    $ 950  284394.0      HONDA   \n",
       "1                         2002 ISUZU RODEO S    $ 850  148883.0      ISUZU   \n",
       "2  2002 HYUNDAI SANTA FE GLS/LX Wagon 4 Door  $ 1,000  238042.0    HYUNDAI   \n",
       "3                  1991 CHEVROLET GMT-400 K1    $ 500  207094.0  CHEVROLET   \n",
       "4                  1996 CHEVROLET GMT-400 C1    $ 800  176638.0  CHEVROLET   \n",
       "\n",
       "   year  \n",
       "0  1999  \n",
       "1  2002  \n",
       "2  2002  \n",
       "3  1991  \n",
       "4  1996  "
      ]
     },
     "execution_count": 51,
     "metadata": {},
     "output_type": "execute_result"
    }
   ],
   "source": [
    "data.head()"
   ]
  },
  {
   "cell_type": "code",
   "execution_count": 52,
   "metadata": {},
   "outputs": [
    {
     "data": {
      "text/plain": [
       "0      950\n",
       "1      850\n",
       "2    1,000\n",
       "3      500\n",
       "4      800\n",
       "Name: price, dtype: object"
      ]
     },
     "execution_count": 52,
     "metadata": {},
     "output_type": "execute_result"
    }
   ],
   "source": [
    "data['price'] = data['price'].apply(lambda x: x.split(' ')[1])\n",
    "data['price'].head()"
   ]
  },
  {
   "cell_type": "code",
   "execution_count": 53,
   "metadata": {},
   "outputs": [
    {
     "data": {
      "text/plain": [
       "0     950\n",
       "1     850\n",
       "2    1000\n",
       "3     500\n",
       "4     800\n",
       "Name: price, dtype: object"
      ]
     },
     "execution_count": 53,
     "metadata": {},
     "output_type": "execute_result"
    }
   ],
   "source": [
    "data['price'] = data['price'].str.replace(',', '')\n",
    "data['price'].head()"
   ]
  },
  {
   "cell_type": "code",
   "execution_count": 56,
   "metadata": {},
   "outputs": [
    {
     "name": "stdout",
     "output_type": "stream",
     "text": [
      "<class 'pandas.core.frame.DataFrame'>\n",
      "RangeIndex: 2401 entries, 0 to 2400\n",
      "Data columns (total 5 columns):\n",
      " #   Column   Non-Null Count  Dtype  \n",
      "---  ------   --------------  -----  \n",
      " 0   name     2401 non-null   object \n",
      " 1   price    2401 non-null   float64\n",
      " 2   mileage  2401 non-null   float64\n",
      " 3   model    2401 non-null   object \n",
      " 4   year     2401 non-null   object \n",
      "dtypes: float64(2), object(3)\n",
      "memory usage: 93.9+ KB\n"
     ]
    }
   ],
   "source": [
    "data.info()"
   ]
  },
  {
   "cell_type": "code",
   "execution_count": 55,
   "metadata": {},
   "outputs": [],
   "source": [
    "data['price'] = data['price'].astype(float)"
   ]
  },
  {
   "cell_type": "code",
   "execution_count": null,
   "metadata": {},
   "outputs": [],
   "source": []
  }
 ],
 "metadata": {
  "kernelspec": {
   "display_name": "Python 3",
   "language": "python",
   "name": "python3"
  },
  "language_info": {
   "codemirror_mode": {
    "name": "ipython",
    "version": 3
   },
   "file_extension": ".py",
   "mimetype": "text/x-python",
   "name": "python",
   "nbconvert_exporter": "python",
   "pygments_lexer": "ipython3",
   "version": "3.8.5"
  }
 },
 "nbformat": 4,
 "nbformat_minor": 4
}
