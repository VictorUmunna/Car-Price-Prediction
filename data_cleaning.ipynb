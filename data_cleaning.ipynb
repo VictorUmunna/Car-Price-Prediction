{
 "cells": [
  {
   "cell_type": "code",
   "execution_count": 76,
   "metadata": {},
   "outputs": [],
   "source": [
    "# import modules and libraries\n",
    "import pandas as pd\n",
    "import numpy as np\n",
    "import matplotlib.pyplot as plt\n",
    "import seaborn as sns"
   ]
  },
  {
   "cell_type": "code",
   "execution_count": 99,
   "metadata": {
    "scrolled": true
   },
   "outputs": [
    {
     "data": {
      "text/html": [
       "<div>\n",
       "<style scoped>\n",
       "    .dataframe tbody tr th:only-of-type {\n",
       "        vertical-align: middle;\n",
       "    }\n",
       "\n",
       "    .dataframe tbody tr th {\n",
       "        vertical-align: top;\n",
       "    }\n",
       "\n",
       "    .dataframe thead th {\n",
       "        text-align: right;\n",
       "    }\n",
       "</style>\n",
       "<table border=\"1\" class=\"dataframe\">\n",
       "  <thead>\n",
       "    <tr style=\"text-align: right;\">\n",
       "      <th></th>\n",
       "      <th>name</th>\n",
       "      <th>price</th>\n",
       "      <th>year</th>\n",
       "      <th>mileage</th>\n",
       "      <th>engine</th>\n",
       "      <th>transmission</th>\n",
       "    </tr>\n",
       "  </thead>\n",
       "  <tbody>\n",
       "    <tr>\n",
       "      <th>0</th>\n",
       "      <td>Mazda MX5</td>\n",
       "      <td>£7,499</td>\n",
       "      <td>2007</td>\n",
       "      <td>63,131 miles</td>\n",
       "      <td>Petrol</td>\n",
       "      <td>Manual</td>\n",
       "    </tr>\n",
       "    <tr>\n",
       "      <th>1</th>\n",
       "      <td>Jaguar XF</td>\n",
       "      <td>£7,775</td>\n",
       "      <td>2010</td>\n",
       "      <td>61,890 miles</td>\n",
       "      <td>Petrol</td>\n",
       "      <td>Automatic</td>\n",
       "    </tr>\n",
       "    <tr>\n",
       "      <th>2</th>\n",
       "      <td>Audi A6</td>\n",
       "      <td>£6,950</td>\n",
       "      <td>2012</td>\n",
       "      <td>129,170 miles</td>\n",
       "      <td>Diesel</td>\n",
       "      <td>Automatic</td>\n",
       "    </tr>\n",
       "    <tr>\n",
       "      <th>3</th>\n",
       "      <td>Nissan Qashqai</td>\n",
       "      <td>£7,790</td>\n",
       "      <td>2013</td>\n",
       "      <td>44,900 miles</td>\n",
       "      <td>Petrol</td>\n",
       "      <td>Automatic</td>\n",
       "    </tr>\n",
       "    <tr>\n",
       "      <th>4</th>\n",
       "      <td>MINI Mini</td>\n",
       "      <td>£15,999</td>\n",
       "      <td>2017</td>\n",
       "      <td>32,012 miles</td>\n",
       "      <td>Petrol</td>\n",
       "      <td>Manual</td>\n",
       "    </tr>\n",
       "    <tr>\n",
       "      <th>5</th>\n",
       "      <td>Mercedes B Class</td>\n",
       "      <td>£10,995</td>\n",
       "      <td>2015</td>\n",
       "      <td>33,050 miles</td>\n",
       "      <td>Diesel</td>\n",
       "      <td>Automatic</td>\n",
       "    </tr>\n",
       "    <tr>\n",
       "      <th>6</th>\n",
       "      <td>Volkswagen Touran</td>\n",
       "      <td>£7,250</td>\n",
       "      <td>2011</td>\n",
       "      <td>62,000 miles</td>\n",
       "      <td>Diesel</td>\n",
       "      <td>Manual</td>\n",
       "    </tr>\n",
       "    <tr>\n",
       "      <th>7</th>\n",
       "      <td>Vauxhall ADAM</td>\n",
       "      <td>£5,990</td>\n",
       "      <td>2014</td>\n",
       "      <td>44,000 miles</td>\n",
       "      <td>Petrol</td>\n",
       "      <td>Manual</td>\n",
       "    </tr>\n",
       "    <tr>\n",
       "      <th>8</th>\n",
       "      <td>Toyota Prius</td>\n",
       "      <td>£6,290</td>\n",
       "      <td>2013</td>\n",
       "      <td>172,000 miles</td>\n",
       "      <td>Hybrid</td>\n",
       "      <td>Automatic</td>\n",
       "    </tr>\n",
       "    <tr>\n",
       "      <th>9</th>\n",
       "      <td>Skoda Roomster</td>\n",
       "      <td>£4,450</td>\n",
       "      <td>2012</td>\n",
       "      <td>74,000 miles</td>\n",
       "      <td>Diesel</td>\n",
       "      <td>Manual</td>\n",
       "    </tr>\n",
       "  </tbody>\n",
       "</table>\n",
       "</div>"
      ],
      "text/plain": [
       "                name    price  year        mileage  engine transmission\n",
       "0          Mazda MX5   £7,499  2007   63,131 miles  Petrol       Manual\n",
       "1          Jaguar XF   £7,775  2010   61,890 miles  Petrol    Automatic\n",
       "2            Audi A6   £6,950  2012  129,170 miles  Diesel    Automatic\n",
       "3     Nissan Qashqai   £7,790  2013   44,900 miles  Petrol    Automatic\n",
       "4          MINI Mini  £15,999  2017   32,012 miles  Petrol       Manual\n",
       "5   Mercedes B Class  £10,995  2015   33,050 miles  Diesel    Automatic\n",
       "6  Volkswagen Touran   £7,250  2011   62,000 miles  Diesel       Manual\n",
       "7      Vauxhall ADAM   £5,990  2014   44,000 miles  Petrol       Manual\n",
       "8       Toyota Prius   £6,290  2013  172,000 miles  Hybrid    Automatic\n",
       "9     Skoda Roomster   £4,450  2012   74,000 miles  Diesel       Manual"
      ]
     },
     "execution_count": 99,
     "metadata": {},
     "output_type": "execute_result"
    }
   ],
   "source": [
    "# import dataset\n",
    "data = pd.read_csv('car_data.csv')\n",
    "data.head(10)"
   ]
  },
  {
   "cell_type": "code",
   "execution_count": 100,
   "metadata": {},
   "outputs": [
    {
     "data": {
      "text/plain": [
       "(3000, 6)"
      ]
     },
     "execution_count": 100,
     "metadata": {},
     "output_type": "execute_result"
    }
   ],
   "source": [
    "#get the shape of the data\n",
    "data.shape"
   ]
  },
  {
   "cell_type": "code",
   "execution_count": 101,
   "metadata": {},
   "outputs": [
    {
     "data": {
      "text/html": [
       "<div>\n",
       "<style scoped>\n",
       "    .dataframe tbody tr th:only-of-type {\n",
       "        vertical-align: middle;\n",
       "    }\n",
       "\n",
       "    .dataframe tbody tr th {\n",
       "        vertical-align: top;\n",
       "    }\n",
       "\n",
       "    .dataframe thead th {\n",
       "        text-align: right;\n",
       "    }\n",
       "</style>\n",
       "<table border=\"1\" class=\"dataframe\">\n",
       "  <thead>\n",
       "    <tr style=\"text-align: right;\">\n",
       "      <th></th>\n",
       "      <th>name</th>\n",
       "      <th>price</th>\n",
       "      <th>year</th>\n",
       "      <th>mileage</th>\n",
       "      <th>engine</th>\n",
       "      <th>transmission</th>\n",
       "    </tr>\n",
       "  </thead>\n",
       "  <tbody>\n",
       "    <tr>\n",
       "      <th>count</th>\n",
       "      <td>3000</td>\n",
       "      <td>3000</td>\n",
       "      <td>3000</td>\n",
       "      <td>3000</td>\n",
       "      <td>3000</td>\n",
       "      <td>2990</td>\n",
       "    </tr>\n",
       "    <tr>\n",
       "      <th>unique</th>\n",
       "      <td>548</td>\n",
       "      <td>1136</td>\n",
       "      <td>26</td>\n",
       "      <td>2484</td>\n",
       "      <td>11</td>\n",
       "      <td>10</td>\n",
       "    </tr>\n",
       "    <tr>\n",
       "      <th>top</th>\n",
       "      <td>Ford Kuga</td>\n",
       "      <td>£4,995</td>\n",
       "      <td>2018</td>\n",
       "      <td>60,000 miles</td>\n",
       "      <td>Petrol</td>\n",
       "      <td>Manual</td>\n",
       "    </tr>\n",
       "    <tr>\n",
       "      <th>freq</th>\n",
       "      <td>139</td>\n",
       "      <td>35</td>\n",
       "      <td>574</td>\n",
       "      <td>13</td>\n",
       "      <td>1594</td>\n",
       "      <td>1900</td>\n",
       "    </tr>\n",
       "  </tbody>\n",
       "</table>\n",
       "</div>"
      ],
      "text/plain": [
       "             name   price  year       mileage  engine transmission\n",
       "count        3000    3000  3000          3000    3000         2990\n",
       "unique        548    1136    26          2484      11           10\n",
       "top     Ford Kuga  £4,995  2018  60,000 miles  Petrol       Manual\n",
       "freq          139      35   574            13    1594         1900"
      ]
     },
     "execution_count": 101,
     "metadata": {},
     "output_type": "execute_result"
    }
   ],
   "source": [
    "#get the statistical description of the float columns\n",
    "data.describe()"
   ]
  },
  {
   "cell_type": "code",
   "execution_count": 102,
   "metadata": {
    "scrolled": true
   },
   "outputs": [
    {
     "name": "stdout",
     "output_type": "stream",
     "text": [
      "<class 'pandas.core.frame.DataFrame'>\n",
      "RangeIndex: 3000 entries, 0 to 2999\n",
      "Data columns (total 6 columns):\n",
      " #   Column        Non-Null Count  Dtype \n",
      "---  ------        --------------  ----- \n",
      " 0   name          3000 non-null   object\n",
      " 1   price         3000 non-null   object\n",
      " 2   year          3000 non-null   object\n",
      " 3   mileage       3000 non-null   object\n",
      " 4   engine        3000 non-null   object\n",
      " 5   transmission  2990 non-null   object\n",
      "dtypes: object(6)\n",
      "memory usage: 140.8+ KB\n"
     ]
    }
   ],
   "source": [
    "data.info()"
   ]
  },
  {
   "cell_type": "code",
   "execution_count": 103,
   "metadata": {
    "scrolled": true
   },
   "outputs": [
    {
     "data": {
      "text/plain": [
       "name             0\n",
       "price            0\n",
       "year             0\n",
       "mileage          0\n",
       "engine           0\n",
       "transmission    10\n",
       "dtype: int64"
      ]
     },
     "execution_count": 103,
     "metadata": {},
     "output_type": "execute_result"
    }
   ],
   "source": [
    "data.isnull().sum()"
   ]
  },
  {
   "cell_type": "markdown",
   "metadata": {},
   "source": [
    "There are 10 missing values in the transmission column. That is a very small number so we need to check the column to see how we can clean it"
   ]
  },
  {
   "cell_type": "code",
   "execution_count": 104,
   "metadata": {},
   "outputs": [
    {
     "data": {
      "text/html": [
       "<div>\n",
       "<style scoped>\n",
       "    .dataframe tbody tr th:only-of-type {\n",
       "        vertical-align: middle;\n",
       "    }\n",
       "\n",
       "    .dataframe tbody tr th {\n",
       "        vertical-align: top;\n",
       "    }\n",
       "\n",
       "    .dataframe thead th {\n",
       "        text-align: right;\n",
       "    }\n",
       "</style>\n",
       "<table border=\"1\" class=\"dataframe\">\n",
       "  <thead>\n",
       "    <tr style=\"text-align: right;\">\n",
       "      <th></th>\n",
       "      <th>name</th>\n",
       "      <th>price</th>\n",
       "      <th>year</th>\n",
       "      <th>mileage</th>\n",
       "      <th>engine</th>\n",
       "      <th>transmission</th>\n",
       "    </tr>\n",
       "  </thead>\n",
       "  <tbody>\n",
       "    <tr>\n",
       "      <th>43</th>\n",
       "      <td>Toyota Yaris</td>\n",
       "      <td>£3,395</td>\n",
       "      <td>28,600 miles</td>\n",
       "      <td>Petrol</td>\n",
       "      <td>Manual</td>\n",
       "      <td>NaN</td>\n",
       "    </tr>\n",
       "    <tr>\n",
       "      <th>44</th>\n",
       "      <td>Toyota AYGO</td>\n",
       "      <td>£4,995</td>\n",
       "      <td>50,382 miles</td>\n",
       "      <td>Petrol</td>\n",
       "      <td>Manual</td>\n",
       "      <td>NaN</td>\n",
       "    </tr>\n",
       "    <tr>\n",
       "      <th>858</th>\n",
       "      <td>Lexus CT</td>\n",
       "      <td>£14,999</td>\n",
       "      <td>2017</td>\n",
       "      <td>33,845 miles</td>\n",
       "      <td>Automatic</td>\n",
       "      <td>NaN</td>\n",
       "    </tr>\n",
       "    <tr>\n",
       "      <th>1096</th>\n",
       "      <td>Renault Clio</td>\n",
       "      <td>£9,499</td>\n",
       "      <td>18,000 miles</td>\n",
       "      <td>Diesel</td>\n",
       "      <td>Manual</td>\n",
       "      <td>NaN</td>\n",
       "    </tr>\n",
       "    <tr>\n",
       "      <th>1119</th>\n",
       "      <td>Jaguar XF</td>\n",
       "      <td>£12,699</td>\n",
       "      <td>64,000 miles</td>\n",
       "      <td>Diesel</td>\n",
       "      <td>Manual</td>\n",
       "      <td>NaN</td>\n",
       "    </tr>\n",
       "    <tr>\n",
       "      <th>1137</th>\n",
       "      <td>BMW 1 Series</td>\n",
       "      <td>£7,999</td>\n",
       "      <td>2013</td>\n",
       "      <td>Diesel</td>\n",
       "      <td>Manual</td>\n",
       "      <td>NaN</td>\n",
       "    </tr>\n",
       "    <tr>\n",
       "      <th>1639</th>\n",
       "      <td>NISSAN LEAF</td>\n",
       "      <td>£6,500</td>\n",
       "      <td>2013</td>\n",
       "      <td>51,000 miles</td>\n",
       "      <td>Automatic</td>\n",
       "      <td>NaN</td>\n",
       "    </tr>\n",
       "    <tr>\n",
       "      <th>1795</th>\n",
       "      <td>BMW 3 SERIES</td>\n",
       "      <td>£18,450</td>\n",
       "      <td>2018</td>\n",
       "      <td>34,000 miles</td>\n",
       "      <td>Automatic</td>\n",
       "      <td>NaN</td>\n",
       "    </tr>\n",
       "    <tr>\n",
       "      <th>1859</th>\n",
       "      <td>Mercedes SL</td>\n",
       "      <td>£29,938</td>\n",
       "      <td>2014</td>\n",
       "      <td>Petrol</td>\n",
       "      <td>Automatic</td>\n",
       "      <td>NaN</td>\n",
       "    </tr>\n",
       "    <tr>\n",
       "      <th>1972</th>\n",
       "      <td>Toyota Prius</td>\n",
       "      <td>£6,995</td>\n",
       "      <td>180,000 miles</td>\n",
       "      <td>Hybrid</td>\n",
       "      <td>Automatic</td>\n",
       "      <td>NaN</td>\n",
       "    </tr>\n",
       "  </tbody>\n",
       "</table>\n",
       "</div>"
      ],
      "text/plain": [
       "              name    price           year       mileage     engine  \\\n",
       "43    Toyota Yaris   £3,395   28,600 miles        Petrol     Manual   \n",
       "44     Toyota AYGO   £4,995   50,382 miles        Petrol     Manual   \n",
       "858       Lexus CT  £14,999           2017  33,845 miles  Automatic   \n",
       "1096  Renault Clio   £9,499   18,000 miles        Diesel     Manual   \n",
       "1119     Jaguar XF  £12,699   64,000 miles        Diesel     Manual   \n",
       "1137  BMW 1 Series   £7,999           2013        Diesel     Manual   \n",
       "1639   NISSAN LEAF   £6,500           2013  51,000 miles  Automatic   \n",
       "1795  BMW 3 SERIES  £18,450           2018  34,000 miles  Automatic   \n",
       "1859   Mercedes SL  £29,938           2014        Petrol  Automatic   \n",
       "1972  Toyota Prius   £6,995  180,000 miles        Hybrid  Automatic   \n",
       "\n",
       "     transmission  \n",
       "43            NaN  \n",
       "44            NaN  \n",
       "858           NaN  \n",
       "1096          NaN  \n",
       "1119          NaN  \n",
       "1137          NaN  \n",
       "1639          NaN  \n",
       "1795          NaN  \n",
       "1859          NaN  \n",
       "1972          NaN  "
      ]
     },
     "execution_count": 104,
     "metadata": {},
     "output_type": "execute_result"
    }
   ],
   "source": [
    "data[data['transmission'].isnull()]"
   ]
  },
  {
   "cell_type": "markdown",
   "metadata": {},
   "source": [
    "The rows with null values are small and look inconsistent, so it is best we delete it"
   ]
  },
  {
   "cell_type": "code",
   "execution_count": 105,
   "metadata": {
    "scrolled": true
   },
   "outputs": [
    {
     "data": {
      "text/plain": [
       "(2990, 6)"
      ]
     },
     "execution_count": 105,
     "metadata": {},
     "output_type": "execute_result"
    }
   ],
   "source": [
    "data= data.dropna()\n",
    "data.shape"
   ]
  },
  {
   "cell_type": "markdown",
   "metadata": {},
   "source": [
    "Ten rows have been deleted which is less than 1% of the total data"
   ]
  },
  {
   "cell_type": "code",
   "execution_count": 106,
   "metadata": {},
   "outputs": [],
   "source": [
    "#delete duplicate rows \n",
    "data = data.drop_duplicates(keep= 'first', inplace=False)"
   ]
  },
  {
   "cell_type": "code",
   "execution_count": 107,
   "metadata": {},
   "outputs": [
    {
     "data": {
      "text/plain": [
       "(2986, 6)"
      ]
     },
     "execution_count": 107,
     "metadata": {},
     "output_type": "execute_result"
    }
   ],
   "source": [
    "data.shape"
   ]
  },
  {
   "cell_type": "markdown",
   "metadata": {},
   "source": [
    "## NAME"
   ]
  },
  {
   "cell_type": "markdown",
   "metadata": {},
   "source": [
    "We will extract the name of the car manufacturers from the name column"
   ]
  },
  {
   "cell_type": "code",
   "execution_count": 108,
   "metadata": {
    "scrolled": true
   },
   "outputs": [
    {
     "data": {
      "text/plain": [
       "0     Mazda\n",
       "1    Jaguar\n",
       "2      Audi\n",
       "3    Nissan\n",
       "4      MINI\n",
       "Name: manufacturer, dtype: object"
      ]
     },
     "execution_count": 108,
     "metadata": {},
     "output_type": "execute_result"
    }
   ],
   "source": [
    "data['manufacturer'] = data['name'].apply(lambda x: x.split(' ')[0])\n",
    "data['manufacturer'].head()"
   ]
  },
  {
   "cell_type": "code",
   "execution_count": 109,
   "metadata": {},
   "outputs": [
    {
     "data": {
      "text/plain": [
       "74"
      ]
     },
     "execution_count": 109,
     "metadata": {},
     "output_type": "execute_result"
    }
   ],
   "source": [
    "data.manufacturer.nunique()"
   ]
  },
  {
   "cell_type": "code",
   "execution_count": 110,
   "metadata": {
    "scrolled": true
   },
   "outputs": [
    {
     "data": {
      "text/plain": [
       "array(['Mazda', 'Jaguar', 'Audi', 'Nissan', 'MINI', 'Mercedes',\n",
       "       'Volkswagen', 'Vauxhall', 'Toyota', 'Skoda', 'Ford', 'Chevrolet',\n",
       "       'BMW', 'Suzuki', 'Renault', 'Peugeot', 'Citroen', 'Volvo', 'Fiat',\n",
       "       'DS', 'Dacia', 'Abarth', 'Smart', 'SEAT', 'Mitsubishi', 'MG',\n",
       "       'Mercedes-Benz', 'Lexus', 'Land', 'Kia', 'Jeep', 'Hyundai',\n",
       "       'Honda', 'Maserati', 'Bmw', 'Seat', 'Mini', 'HYUNDAI', 'FORD',\n",
       "       'VAUXHALL', 'AUDI', 'VOLKSWAGEN', 'PEUGEOT', 'MITSUBISHI', 'VOLVO',\n",
       "       'MERCEDES-BENZ', 'SUZUKI', 'smart', 'Ds', 'Subaru',\n",
       "       'Mercedes-benz', 'RENAULT', 'SMART', 'PORSCHE', 'FIAT', 'HONDA',\n",
       "       'Infiniti', 'SKODA', 'Porsche', 'Bentley', 'Alfa', 'DACIA',\n",
       "       'ABARTH', 'INFINITI', 'TOYOTA', 'NISSAN', 'MAZDA', 'MASERATI',\n",
       "       'LAND', 'KIA', 'JAGUAR', 'CITROEN', 'Chrysler', 'Isuzu'],\n",
       "      dtype=object)"
      ]
     },
     "execution_count": 110,
     "metadata": {},
     "output_type": "execute_result"
    }
   ],
   "source": [
    "data.manufacturer.unique()"
   ]
  },
  {
   "cell_type": "markdown",
   "metadata": {},
   "source": [
    "We will clean these data by making similar maufacturers uniform."
   ]
  },
  {
   "cell_type": "code",
   "execution_count": 111,
   "metadata": {},
   "outputs": [
    {
     "name": "stdout",
     "output_type": "stream",
     "text": [
      "['Mazda' 'Jaguar' 'Audi' 'Nissan' 'Mini' 'Mercedes-Benz' 'Volkswagen'\n",
      " 'Vauxhall' 'Toyota' 'Skoda' 'Ford' 'Chevrolet' 'BMW' 'Suzuki' 'Renault'\n",
      " 'Peugeot' 'Citroen' 'Volvo' 'Fiat' 'DS' 'Dacia' 'Abarth' 'Smart' 'Seat'\n",
      " 'Mitsubishi' 'MG' 'Lexus' 'Land-Rover' 'Kia' 'Jeep' 'Hyundai' 'Honda'\n",
      " 'Maserati' 'Subaru' 'Porsche' 'Infiniti' 'Bentley' 'Alfa-Romero'\n",
      " 'Chrysler' 'Isuzu']\n",
      "\n",
      "\n",
      "There are 40 different car manufacturers in the dataset\n"
     ]
    }
   ],
   "source": [
    "data = data.replace({'manufacturer' : \n",
    "            {'MAZDA' : 'Mazda', 'JAGUAR':'Jaguar', 'AUDI' : 'Audi', 'NISSAN': 'Nissan', 'MINI': 'Mini', \n",
    "             'VOLKSWAGEN':'Volkswagen', 'VAUXHALL':'Vauxhall', 'TOYOTA':'Toyota', 'SKODA':'Skoda', 'FORD':'Ford',\n",
    "             'Bmw':'BMW','SUZUKI' : 'Suzuki', 'RENAULT':'Renault', 'PEUGEOT':'Peugeot', 'CITROEN':'Citroen',\n",
    "             'VOLVO':'Volvo', 'FIAT':'Fiat', 'Ds':'DS', 'DACIA':'Dacia', 'ABARTH':'Abarth', 'SMART':'Smart', \n",
    "             'smart':'Smart','SEAT':'Seat', 'MITSUBISHI':'Mitsubishi', 'KIA':'Kia', 'HYUNDAI':'Hyundai',\n",
    "             'HONDA':'Honda','MASERATI':'Maserati', 'PORSCHE':'Porsche', 'INFINITI':'Infiniti', 'Alfa':'Alfa-Romero',\n",
    "             'Mercedes': 'Mercedes-Benz', 'MERCEDES-BENZ': 'Mercedes-Benz', 'Mercedes-benz': 'Mercedes-Benz',\n",
    "             'Land':'Land-Rover', 'LAND': 'Land-Rover'}\n",
    "             })\n",
    "\n",
    "print(data.manufacturer.unique())\n",
    "print('\\n')\n",
    "print('There are ' + str(data.manufacturer.nunique()) + ' different car manufacturers in the dataset')"
   ]
  },
  {
   "cell_type": "markdown",
   "metadata": {},
   "source": [
    "## PRICE"
   ]
  },
  {
   "cell_type": "code",
   "execution_count": 112,
   "metadata": {
    "scrolled": false
   },
   "outputs": [
    {
     "data": {
      "text/plain": [
       "0     7499\n",
       "1     7775\n",
       "2     6950\n",
       "3     7790\n",
       "4    15999\n",
       "Name: price, dtype: int64"
      ]
     },
     "execution_count": 112,
     "metadata": {},
     "output_type": "execute_result"
    }
   ],
   "source": [
    "data['price'] = data['price'].str.replace(',', '').str.replace('£', '').astype(np.int64)\n",
    "data['price'].head()"
   ]
  },
  {
   "cell_type": "markdown",
   "metadata": {},
   "source": [
    "## YEAR"
   ]
  },
  {
   "cell_type": "markdown",
   "metadata": {},
   "source": [
    "We can't work with the year column like that, we have to convert it to age so that it will be easy to understand"
   ]
  },
  {
   "cell_type": "code",
   "execution_count": 113,
   "metadata": {},
   "outputs": [],
   "source": [
    "#convert the year column to integer\n",
    "data['year']=data['year'].astype(str).astype(np.int64)"
   ]
  },
  {
   "cell_type": "code",
   "execution_count": 114,
   "metadata": {},
   "outputs": [],
   "source": [
    "Current_Year = 2021"
   ]
  },
  {
   "cell_type": "code",
   "execution_count": 115,
   "metadata": {},
   "outputs": [],
   "source": [
    "data['age'] = Current_Year - data['year']"
   ]
  },
  {
   "cell_type": "code",
   "execution_count": 116,
   "metadata": {},
   "outputs": [],
   "source": [
    "data['age'] = data['age'].astype(np.int64)"
   ]
  },
  {
   "cell_type": "code",
   "execution_count": 117,
   "metadata": {},
   "outputs": [
    {
     "data": {
      "text/plain": [
       "0    14\n",
       "1    11\n",
       "2     9\n",
       "3     8\n",
       "4     4\n",
       "Name: age, dtype: int64"
      ]
     },
     "execution_count": 117,
     "metadata": {},
     "output_type": "execute_result"
    }
   ],
   "source": [
    "data['age'].head()"
   ]
  },
  {
   "cell_type": "markdown",
   "metadata": {},
   "source": [
    "## MILEAGE"
   ]
  },
  {
   "cell_type": "markdown",
   "metadata": {},
   "source": [
    "Remove the commas and miles from the mileage column"
   ]
  },
  {
   "cell_type": "code",
   "execution_count": 118,
   "metadata": {
    "scrolled": true
   },
   "outputs": [
    {
     "data": {
      "text/plain": [
       "0     63131\n",
       "1     61890\n",
       "2    129170\n",
       "3     44900\n",
       "4     32012\n",
       "Name: mileage, dtype: int64"
      ]
     },
     "execution_count": 118,
     "metadata": {},
     "output_type": "execute_result"
    }
   ],
   "source": [
    "data['mileage'] = data['mileage'].str.replace(',', '').str.replace(' ', '').str.replace('miles', '').astype(np.int64)\n",
    "data['mileage'].head()"
   ]
  },
  {
   "cell_type": "markdown",
   "metadata": {},
   "source": [
    "## ENGINE"
   ]
  },
  {
   "cell_type": "code",
   "execution_count": 119,
   "metadata": {},
   "outputs": [
    {
     "data": {
      "text/plain": [
       "array(['Petrol', 'Diesel', 'Hybrid', 'Electric', 'Plug_in_hybrid',\n",
       "       'Petrol hybrid', 'Petrol/electric', 'Petrol / electric hy',\n",
       "       'Petrol plug-in hybri'], dtype=object)"
      ]
     },
     "execution_count": 119,
     "metadata": {},
     "output_type": "execute_result"
    }
   ],
   "source": [
    "data['engine'].unique()"
   ]
  },
  {
   "cell_type": "code",
   "execution_count": 124,
   "metadata": {
    "scrolled": true
   },
   "outputs": [
    {
     "data": {
      "text/plain": [
       "array(['Petrol', 'Diesel', 'Hybrid', 'Electric', 'Plug_in_hybrid'],\n",
       "      dtype=object)"
      ]
     },
     "execution_count": 124,
     "metadata": {},
     "output_type": "execute_result"
    }
   ],
   "source": [
    "data = data.replace({'engine' : \n",
    "                     {'Petrol hybrid': 'Hybrid', 'Petrol hybrid': 'Hybrid', \n",
    "                      'Petrol / electric hy' : 'Hybrid', 'Petrol plug-in hybri': 'Plug_in_hybrid',\n",
    "                     'Petrol/electric' : 'Hybrid'}\n",
    "                     })\n",
    "data['engine'].unique()"
   ]
  },
  {
   "cell_type": "markdown",
   "metadata": {},
   "source": [
    "## TRANSMISSION"
   ]
  },
  {
   "cell_type": "code",
   "execution_count": 126,
   "metadata": {},
   "outputs": [
    {
     "data": {
      "text/plain": [
       "array(['Manual', 'Automatic', 'Semi auto', 'Semiauto', 'G-tronic+',\n",
       "       'Semiautomatic', 'Cvt', 'Semi automatic', 'Manual ',\n",
       "       'Semi-automatic'], dtype=object)"
      ]
     },
     "execution_count": 126,
     "metadata": {},
     "output_type": "execute_result"
    }
   ],
   "source": [
    "data['transmission'].unique()"
   ]
  },
  {
   "cell_type": "code",
   "execution_count": 132,
   "metadata": {},
   "outputs": [],
   "source": [
    "data = data.replace({'transmission' : \n",
    "                     {'Semi auto': 'Semiautomatic', 'Semiauto': 'Semiautomatic',\n",
    "                      'Semi automatic': 'Semiautomatic', 'Manual ': 'Manual',\n",
    "                      'Semi-automatic': 'Semiautomatic', 'G-tronic+': 'Automatic',\n",
    "                      'Cvt': 'Automatic'}\n",
    "                     \n",
    "                     })               "
   ]
  },
  {
   "cell_type": "markdown",
   "metadata": {},
   "source": [
    "Reorder the columns to make the dataframe easy to understand"
   ]
  },
  {
   "cell_type": "code",
   "execution_count": 130,
   "metadata": {},
   "outputs": [
    {
     "data": {
      "text/html": [
       "<div>\n",
       "<style scoped>\n",
       "    .dataframe tbody tr th:only-of-type {\n",
       "        vertical-align: middle;\n",
       "    }\n",
       "\n",
       "    .dataframe tbody tr th {\n",
       "        vertical-align: top;\n",
       "    }\n",
       "\n",
       "    .dataframe thead th {\n",
       "        text-align: right;\n",
       "    }\n",
       "</style>\n",
       "<table border=\"1\" class=\"dataframe\">\n",
       "  <thead>\n",
       "    <tr style=\"text-align: right;\">\n",
       "      <th></th>\n",
       "      <th>name</th>\n",
       "      <th>manufacturer</th>\n",
       "      <th>year</th>\n",
       "      <th>age</th>\n",
       "      <th>mileage</th>\n",
       "      <th>engine</th>\n",
       "      <th>transmission</th>\n",
       "      <th>price</th>\n",
       "    </tr>\n",
       "  </thead>\n",
       "  <tbody>\n",
       "    <tr>\n",
       "      <th>0</th>\n",
       "      <td>Mazda MX5</td>\n",
       "      <td>Mazda</td>\n",
       "      <td>2007</td>\n",
       "      <td>14</td>\n",
       "      <td>63131</td>\n",
       "      <td>Petrol</td>\n",
       "      <td>Manual</td>\n",
       "      <td>7499</td>\n",
       "    </tr>\n",
       "    <tr>\n",
       "      <th>1</th>\n",
       "      <td>Jaguar XF</td>\n",
       "      <td>Jaguar</td>\n",
       "      <td>2010</td>\n",
       "      <td>11</td>\n",
       "      <td>61890</td>\n",
       "      <td>Petrol</td>\n",
       "      <td>Automatic</td>\n",
       "      <td>7775</td>\n",
       "    </tr>\n",
       "    <tr>\n",
       "      <th>2</th>\n",
       "      <td>Audi A6</td>\n",
       "      <td>Audi</td>\n",
       "      <td>2012</td>\n",
       "      <td>9</td>\n",
       "      <td>129170</td>\n",
       "      <td>Diesel</td>\n",
       "      <td>Automatic</td>\n",
       "      <td>6950</td>\n",
       "    </tr>\n",
       "    <tr>\n",
       "      <th>3</th>\n",
       "      <td>Nissan Qashqai</td>\n",
       "      <td>Nissan</td>\n",
       "      <td>2013</td>\n",
       "      <td>8</td>\n",
       "      <td>44900</td>\n",
       "      <td>Petrol</td>\n",
       "      <td>Automatic</td>\n",
       "      <td>7790</td>\n",
       "    </tr>\n",
       "    <tr>\n",
       "      <th>4</th>\n",
       "      <td>MINI Mini</td>\n",
       "      <td>Mini</td>\n",
       "      <td>2017</td>\n",
       "      <td>4</td>\n",
       "      <td>32012</td>\n",
       "      <td>Petrol</td>\n",
       "      <td>Manual</td>\n",
       "      <td>15999</td>\n",
       "    </tr>\n",
       "  </tbody>\n",
       "</table>\n",
       "</div>"
      ],
      "text/plain": [
       "             name manufacturer  year  age  mileage  engine transmission  price\n",
       "0       Mazda MX5        Mazda  2007   14    63131  Petrol       Manual   7499\n",
       "1       Jaguar XF       Jaguar  2010   11    61890  Petrol    Automatic   7775\n",
       "2         Audi A6         Audi  2012    9   129170  Diesel    Automatic   6950\n",
       "3  Nissan Qashqai       Nissan  2013    8    44900  Petrol    Automatic   7790\n",
       "4       MINI Mini         Mini  2017    4    32012  Petrol       Manual  15999"
      ]
     },
     "execution_count": 130,
     "metadata": {},
     "output_type": "execute_result"
    }
   ],
   "source": [
    "data = data[['name', 'manufacturer', 'year', 'age', 'mileage', 'engine', 'transmission', 'price']]\n",
    "data.head()"
   ]
  },
  {
   "cell_type": "code",
   "execution_count": 134,
   "metadata": {},
   "outputs": [
    {
     "data": {
      "text/plain": [
       "(2986, 8)"
      ]
     },
     "execution_count": 134,
     "metadata": {},
     "output_type": "execute_result"
    }
   ],
   "source": [
    "data.shape"
   ]
  },
  {
   "cell_type": "code",
   "execution_count": 135,
   "metadata": {},
   "outputs": [],
   "source": [
    "#save the cleaned data to a csv file\n",
    "\n",
    "data.to_csv('cleaned_car_data.csv', index = False)"
   ]
  },
  {
   "cell_type": "code",
   "execution_count": null,
   "metadata": {},
   "outputs": [],
   "source": []
  }
 ],
 "metadata": {
  "kernelspec": {
   "display_name": "Python 3",
   "language": "python",
   "name": "python3"
  },
  "language_info": {
   "codemirror_mode": {
    "name": "ipython",
    "version": 3
   },
   "file_extension": ".py",
   "mimetype": "text/x-python",
   "name": "python",
   "nbconvert_exporter": "python",
   "pygments_lexer": "ipython3",
   "version": "3.8.5"
  }
 },
 "nbformat": 4,
 "nbformat_minor": 4
}
