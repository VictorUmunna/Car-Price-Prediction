{
 "cells": [
  {
   "cell_type": "code",
   "execution_count": 324,
   "metadata": {},
   "outputs": [],
   "source": [
    "# import modules and libraries\n",
    "import pandas as pd\n",
    "import numpy as np\n",
    "import matplotlib.pyplot as plt\n",
    "import seaborn as sns"
   ]
  },
  {
   "cell_type": "code",
   "execution_count": 325,
   "metadata": {
    "scrolled": true
   },
   "outputs": [
    {
     "data": {
      "text/html": [
       "<div>\n",
       "<style scoped>\n",
       "    .dataframe tbody tr th:only-of-type {\n",
       "        vertical-align: middle;\n",
       "    }\n",
       "\n",
       "    .dataframe tbody tr th {\n",
       "        vertical-align: top;\n",
       "    }\n",
       "\n",
       "    .dataframe thead th {\n",
       "        text-align: right;\n",
       "    }\n",
       "</style>\n",
       "<table border=\"1\" class=\"dataframe\">\n",
       "  <thead>\n",
       "    <tr style=\"text-align: right;\">\n",
       "      <th></th>\n",
       "      <th>name</th>\n",
       "      <th>price</th>\n",
       "      <th>mileage</th>\n",
       "      <th>colour</th>\n",
       "      <th>transmission</th>\n",
       "    </tr>\n",
       "  </thead>\n",
       "  <tbody>\n",
       "    <tr>\n",
       "      <th>0</th>\n",
       "      <td>2000 BUICK CENTURY CUSTOM Sedan 4 Door</td>\n",
       "      <td>357</td>\n",
       "      <td>1.0</td>\n",
       "      <td>CHAMPAGNE</td>\n",
       "      <td>Automatic</td>\n",
       "    </tr>\n",
       "    <tr>\n",
       "      <th>1</th>\n",
       "      <td>2004 HONDA CIVIC LX</td>\n",
       "      <td>850</td>\n",
       "      <td>134095.0</td>\n",
       "      <td>GRAY</td>\n",
       "      <td>AUTOMATIC</td>\n",
       "    </tr>\n",
       "    <tr>\n",
       "      <th>2</th>\n",
       "      <td>1993 FORD MUSTANG LX</td>\n",
       "      <td>975</td>\n",
       "      <td>99086.0</td>\n",
       "      <td>WHITE</td>\n",
       "      <td>AUTOMATIC</td>\n",
       "    </tr>\n",
       "    <tr>\n",
       "      <th>3</th>\n",
       "      <td>1998 HONDA CR-V LX</td>\n",
       "      <td>925</td>\n",
       "      <td>194018.0</td>\n",
       "      <td>BLUE</td>\n",
       "      <td>AUTOMATIC</td>\n",
       "    </tr>\n",
       "    <tr>\n",
       "      <th>4</th>\n",
       "      <td>1999 CHEVROLET TAHOE K1500 Wagon 4 Door</td>\n",
       "      <td>750</td>\n",
       "      <td>264054.0</td>\n",
       "      <td>GRAY</td>\n",
       "      <td>Automatic</td>\n",
       "    </tr>\n",
       "    <tr>\n",
       "      <th>5</th>\n",
       "      <td>2004 HONDA CIVIC EX</td>\n",
       "      <td>1000</td>\n",
       "      <td>0.0</td>\n",
       "      <td>GRAY</td>\n",
       "      <td>AUTOMATIC</td>\n",
       "    </tr>\n",
       "    <tr>\n",
       "      <th>6</th>\n",
       "      <td>2009 DODGE JOURNEY SE Wagon 4 Door</td>\n",
       "      <td>1000</td>\n",
       "      <td>216676.0</td>\n",
       "      <td>GREEN</td>\n",
       "      <td>Automatic</td>\n",
       "    </tr>\n",
       "    <tr>\n",
       "      <th>7</th>\n",
       "      <td>2002 HONDA ACCORD EX</td>\n",
       "      <td>725</td>\n",
       "      <td>218985.0</td>\n",
       "      <td>BLACK</td>\n",
       "      <td>AUTOMATIC</td>\n",
       "    </tr>\n",
       "    <tr>\n",
       "      <th>8</th>\n",
       "      <td>2002 DODGE DAKOTA BAS</td>\n",
       "      <td>900</td>\n",
       "      <td>157868.0</td>\n",
       "      <td>BLUE</td>\n",
       "      <td>AUTOMATIC</td>\n",
       "    </tr>\n",
       "    <tr>\n",
       "      <th>9</th>\n",
       "      <td>2006 HYUNDAI ACCENT GLS</td>\n",
       "      <td>950</td>\n",
       "      <td>145902.0</td>\n",
       "      <td>BLUE</td>\n",
       "      <td>AUTOMATIC</td>\n",
       "    </tr>\n",
       "  </tbody>\n",
       "</table>\n",
       "</div>"
      ],
      "text/plain": [
       "                                      name  price   mileage     colour  \\\n",
       "0   2000 BUICK CENTURY CUSTOM Sedan 4 Door    357       1.0  CHAMPAGNE   \n",
       "1                      2004 HONDA CIVIC LX    850  134095.0       GRAY   \n",
       "2                     1993 FORD MUSTANG LX    975   99086.0      WHITE   \n",
       "3                       1998 HONDA CR-V LX    925  194018.0       BLUE   \n",
       "4  1999 CHEVROLET TAHOE K1500 Wagon 4 Door    750  264054.0       GRAY   \n",
       "5                      2004 HONDA CIVIC EX   1000       0.0       GRAY   \n",
       "6       2009 DODGE JOURNEY SE Wagon 4 Door   1000  216676.0      GREEN   \n",
       "7                     2002 HONDA ACCORD EX    725  218985.0      BLACK   \n",
       "8                    2002 DODGE DAKOTA BAS    900  157868.0       BLUE   \n",
       "9                  2006 HYUNDAI ACCENT GLS    950  145902.0       BLUE   \n",
       "\n",
       "  transmission  \n",
       "0    Automatic  \n",
       "1    AUTOMATIC  \n",
       "2    AUTOMATIC  \n",
       "3    AUTOMATIC  \n",
       "4    Automatic  \n",
       "5    AUTOMATIC  \n",
       "6    Automatic  \n",
       "7    AUTOMATIC  \n",
       "8    AUTOMATIC  \n",
       "9    AUTOMATIC  "
      ]
     },
     "execution_count": 325,
     "metadata": {},
     "output_type": "execute_result"
    }
   ],
   "source": [
    "# import dataset\n",
    "data = pd.read_csv('car_data.csv')\n",
    "data.head(10)"
   ]
  },
  {
   "cell_type": "code",
   "execution_count": 326,
   "metadata": {},
   "outputs": [
    {
     "data": {
      "text/plain": [
       "(2054, 5)"
      ]
     },
     "execution_count": 326,
     "metadata": {},
     "output_type": "execute_result"
    }
   ],
   "source": [
    "#get the shape of the data\n",
    "data.shape"
   ]
  },
  {
   "cell_type": "code",
   "execution_count": 327,
   "metadata": {},
   "outputs": [
    {
     "data": {
      "text/html": [
       "<div>\n",
       "<style scoped>\n",
       "    .dataframe tbody tr th:only-of-type {\n",
       "        vertical-align: middle;\n",
       "    }\n",
       "\n",
       "    .dataframe tbody tr th {\n",
       "        vertical-align: top;\n",
       "    }\n",
       "\n",
       "    .dataframe thead th {\n",
       "        text-align: right;\n",
       "    }\n",
       "</style>\n",
       "<table border=\"1\" class=\"dataframe\">\n",
       "  <thead>\n",
       "    <tr style=\"text-align: right;\">\n",
       "      <th></th>\n",
       "      <th>price</th>\n",
       "      <th>mileage</th>\n",
       "    </tr>\n",
       "  </thead>\n",
       "  <tbody>\n",
       "    <tr>\n",
       "      <th>count</th>\n",
       "      <td>2054.00000</td>\n",
       "      <td>2034.000000</td>\n",
       "    </tr>\n",
       "    <tr>\n",
       "      <th>mean</th>\n",
       "      <td>762.33739</td>\n",
       "      <td>159460.018191</td>\n",
       "    </tr>\n",
       "    <tr>\n",
       "      <th>std</th>\n",
       "      <td>167.18684</td>\n",
       "      <td>76203.903076</td>\n",
       "    </tr>\n",
       "    <tr>\n",
       "      <th>min</th>\n",
       "      <td>300.00000</td>\n",
       "      <td>0.000000</td>\n",
       "    </tr>\n",
       "    <tr>\n",
       "      <th>25%</th>\n",
       "      <td>650.00000</td>\n",
       "      <td>132101.000000</td>\n",
       "    </tr>\n",
       "    <tr>\n",
       "      <th>50%</th>\n",
       "      <td>775.00000</td>\n",
       "      <td>165667.500000</td>\n",
       "    </tr>\n",
       "    <tr>\n",
       "      <th>75%</th>\n",
       "      <td>900.00000</td>\n",
       "      <td>206145.000000</td>\n",
       "    </tr>\n",
       "    <tr>\n",
       "      <th>max</th>\n",
       "      <td>1000.00000</td>\n",
       "      <td>415811.000000</td>\n",
       "    </tr>\n",
       "  </tbody>\n",
       "</table>\n",
       "</div>"
      ],
      "text/plain": [
       "            price        mileage\n",
       "count  2054.00000    2034.000000\n",
       "mean    762.33739  159460.018191\n",
       "std     167.18684   76203.903076\n",
       "min     300.00000       0.000000\n",
       "25%     650.00000  132101.000000\n",
       "50%     775.00000  165667.500000\n",
       "75%     900.00000  206145.000000\n",
       "max    1000.00000  415811.000000"
      ]
     },
     "execution_count": 327,
     "metadata": {},
     "output_type": "execute_result"
    }
   ],
   "source": [
    "#get the statistical description of the float columns\n",
    "data.describe()"
   ]
  },
  {
   "cell_type": "code",
   "execution_count": 328,
   "metadata": {},
   "outputs": [
    {
     "data": {
      "text/html": [
       "<div>\n",
       "<style scoped>\n",
       "    .dataframe tbody tr th:only-of-type {\n",
       "        vertical-align: middle;\n",
       "    }\n",
       "\n",
       "    .dataframe tbody tr th {\n",
       "        vertical-align: top;\n",
       "    }\n",
       "\n",
       "    .dataframe thead th {\n",
       "        text-align: right;\n",
       "    }\n",
       "</style>\n",
       "<table border=\"1\" class=\"dataframe\">\n",
       "  <thead>\n",
       "    <tr style=\"text-align: right;\">\n",
       "      <th></th>\n",
       "      <th>name</th>\n",
       "      <th>colour</th>\n",
       "      <th>transmission</th>\n",
       "    </tr>\n",
       "  </thead>\n",
       "  <tbody>\n",
       "    <tr>\n",
       "      <th>count</th>\n",
       "      <td>2054</td>\n",
       "      <td>2043</td>\n",
       "      <td>2036</td>\n",
       "    </tr>\n",
       "    <tr>\n",
       "      <th>unique</th>\n",
       "      <td>455</td>\n",
       "      <td>23</td>\n",
       "      <td>6</td>\n",
       "    </tr>\n",
       "    <tr>\n",
       "      <th>top</th>\n",
       "      <td>2006 CADILLAC DTS Sedan 4 Door</td>\n",
       "      <td>SILVER</td>\n",
       "      <td>AUTOMATIC</td>\n",
       "    </tr>\n",
       "    <tr>\n",
       "      <th>freq</th>\n",
       "      <td>24</td>\n",
       "      <td>362</td>\n",
       "      <td>978</td>\n",
       "    </tr>\n",
       "  </tbody>\n",
       "</table>\n",
       "</div>"
      ],
      "text/plain": [
       "                                  name  colour transmission\n",
       "count                             2054    2043         2036\n",
       "unique                             455      23            6\n",
       "top     2006 CADILLAC DTS Sedan 4 Door  SILVER    AUTOMATIC\n",
       "freq                                24     362          978"
      ]
     },
     "execution_count": 328,
     "metadata": {},
     "output_type": "execute_result"
    }
   ],
   "source": [
    "data[['name', 'colour', 'transmission']].describe()"
   ]
  },
  {
   "cell_type": "code",
   "execution_count": 329,
   "metadata": {
    "scrolled": true
   },
   "outputs": [
    {
     "name": "stdout",
     "output_type": "stream",
     "text": [
      "<class 'pandas.core.frame.DataFrame'>\n",
      "RangeIndex: 2054 entries, 0 to 2053\n",
      "Data columns (total 5 columns):\n",
      " #   Column        Non-Null Count  Dtype  \n",
      "---  ------        --------------  -----  \n",
      " 0   name          2054 non-null   object \n",
      " 1   price         2054 non-null   int64  \n",
      " 2   mileage       2034 non-null   float64\n",
      " 3   colour        2043 non-null   object \n",
      " 4   transmission  2036 non-null   object \n",
      "dtypes: float64(1), int64(1), object(3)\n",
      "memory usage: 80.4+ KB\n"
     ]
    }
   ],
   "source": [
    "data.info()"
   ]
  },
  {
   "cell_type": "code",
   "execution_count": 330,
   "metadata": {},
   "outputs": [
    {
     "data": {
      "text/plain": [
       "name             0\n",
       "price            0\n",
       "mileage         20\n",
       "colour          11\n",
       "transmission    18\n",
       "dtype: int64"
      ]
     },
     "execution_count": 330,
     "metadata": {},
     "output_type": "execute_result"
    }
   ],
   "source": [
    "data.isnull().sum()"
   ]
  },
  {
   "cell_type": "markdown",
   "metadata": {},
   "source": [
    "We have to deal with the null values in the mileage, colour and transmission columns."
   ]
  },
  {
   "cell_type": "markdown",
   "metadata": {},
   "source": [
    "## Name"
   ]
  },
  {
   "cell_type": "markdown",
   "metadata": {},
   "source": [
    "Let us create two new columns. One called 'make', that will take the cars manufacturers and a second called 'year' that will take the year the car was produced."
   ]
  },
  {
   "cell_type": "code",
   "execution_count": 331,
   "metadata": {
    "scrolled": true
   },
   "outputs": [
    {
     "data": {
      "text/plain": [
       "0        BUICK\n",
       "1        HONDA\n",
       "2         FORD\n",
       "3        HONDA\n",
       "4    CHEVROLET\n",
       "Name: make, dtype: object"
      ]
     },
     "execution_count": 331,
     "metadata": {},
     "output_type": "execute_result"
    }
   ],
   "source": [
    "data['make'] = data['name'].apply(lambda x: x.split(' ')[1])\n",
    "data['make'].head()"
   ]
  },
  {
   "cell_type": "code",
   "execution_count": 332,
   "metadata": {},
   "outputs": [
    {
     "data": {
      "text/plain": [
       "array(['BUICK', 'HONDA', 'FORD', 'CHEVROLET', 'DODGE', 'HYUNDAI',\n",
       "       'CHRYSLER', 'DATSUN', 'CADILLAC', 'BMW', 'ACURA', 'AUDI',\n",
       "       'Chevrolet', 'JEEP', 'KIA', 'GMC', 'MERCURY', 'LINCOLN', 'SUBARU',\n",
       "       'NISSAN', 'OLDSMOBILE', 'TOYOTA', 'SATURN', 'MERCEDES-BENZ',\n",
       "       'MAZDA', 'LEXUS', 'INFINITI', 'MITSUBISHI', 'SUZUKI', 'LAND',\n",
       "       'PONTIAC'], dtype=object)"
      ]
     },
     "execution_count": 332,
     "metadata": {},
     "output_type": "execute_result"
    }
   ],
   "source": [
    "data.make.unique()"
   ]
  },
  {
   "cell_type": "markdown",
   "metadata": {},
   "source": [
    " "
   ]
  },
  {
   "cell_type": "markdown",
   "metadata": {},
   "source": [
    "This column looks good but the \"LAND\" value is not the name of a car manufacturer. We will check the name column to see the correct name of the manufacturer. Also, we have to change Chevrolet to CHEVROLET"
   ]
  },
  {
   "cell_type": "code",
   "execution_count": 333,
   "metadata": {},
   "outputs": [
    {
     "data": {
      "text/plain": [
       "1471    2008 LAND ROVER LR2 SE TEC\n",
       "1883    2008 LAND ROVER LR2 SE TEC\n",
       "Name: name, dtype: object"
      ]
     },
     "execution_count": 333,
     "metadata": {},
     "output_type": "execute_result"
    }
   ],
   "source": [
    "#we will get the name of the car with the make called LAND\n",
    "data[data['make'] == 'LAND']['name']"
   ]
  },
  {
   "cell_type": "markdown",
   "metadata": {},
   "source": [
    "The correct name is \"LAND ROVER\", so we have to change the value to show the correct name "
   ]
  },
  {
   "cell_type": "code",
   "execution_count": 334,
   "metadata": {},
   "outputs": [],
   "source": [
    "data['make'] = data['make'].replace('LAND', 'LAND-ROVER')"
   ]
  },
  {
   "cell_type": "markdown",
   "metadata": {},
   "source": [
    "Next, we change the string Chevrolet to CHEVROLET"
   ]
  },
  {
   "cell_type": "code",
   "execution_count": 335,
   "metadata": {},
   "outputs": [],
   "source": [
    "data['make'] = data['make'].replace('Chevrolet', 'CHEVROLET')"
   ]
  },
  {
   "cell_type": "markdown",
   "metadata": {},
   "source": [
    "Next, we extract the year from the 'name' column"
   ]
  },
  {
   "cell_type": "code",
   "execution_count": 336,
   "metadata": {},
   "outputs": [
    {
     "data": {
      "text/plain": [
       "0    2000\n",
       "1    2004\n",
       "2    1993\n",
       "3    1998\n",
       "4    1999\n",
       "Name: year, dtype: object"
      ]
     },
     "execution_count": 336,
     "metadata": {},
     "output_type": "execute_result"
    }
   ],
   "source": [
    "data['year'] = data['name'].apply(lambda x: x.split(' ')[0])\n",
    "data['year'].head()"
   ]
  },
  {
   "cell_type": "code",
   "execution_count": 337,
   "metadata": {
    "scrolled": true
   },
   "outputs": [
    {
     "data": {
      "text/html": [
       "<div>\n",
       "<style scoped>\n",
       "    .dataframe tbody tr th:only-of-type {\n",
       "        vertical-align: middle;\n",
       "    }\n",
       "\n",
       "    .dataframe tbody tr th {\n",
       "        vertical-align: top;\n",
       "    }\n",
       "\n",
       "    .dataframe thead th {\n",
       "        text-align: right;\n",
       "    }\n",
       "</style>\n",
       "<table border=\"1\" class=\"dataframe\">\n",
       "  <thead>\n",
       "    <tr style=\"text-align: right;\">\n",
       "      <th></th>\n",
       "      <th>name</th>\n",
       "      <th>price</th>\n",
       "      <th>mileage</th>\n",
       "      <th>colour</th>\n",
       "      <th>transmission</th>\n",
       "      <th>make</th>\n",
       "      <th>year</th>\n",
       "    </tr>\n",
       "  </thead>\n",
       "  <tbody>\n",
       "    <tr>\n",
       "      <th>0</th>\n",
       "      <td>2000 BUICK CENTURY CUSTOM Sedan 4 Door</td>\n",
       "      <td>357</td>\n",
       "      <td>1.0</td>\n",
       "      <td>CHAMPAGNE</td>\n",
       "      <td>Automatic</td>\n",
       "      <td>BUICK</td>\n",
       "      <td>2000</td>\n",
       "    </tr>\n",
       "    <tr>\n",
       "      <th>1</th>\n",
       "      <td>2004 HONDA CIVIC LX</td>\n",
       "      <td>850</td>\n",
       "      <td>134095.0</td>\n",
       "      <td>GRAY</td>\n",
       "      <td>AUTOMATIC</td>\n",
       "      <td>HONDA</td>\n",
       "      <td>2004</td>\n",
       "    </tr>\n",
       "    <tr>\n",
       "      <th>2</th>\n",
       "      <td>1993 FORD MUSTANG LX</td>\n",
       "      <td>975</td>\n",
       "      <td>99086.0</td>\n",
       "      <td>WHITE</td>\n",
       "      <td>AUTOMATIC</td>\n",
       "      <td>FORD</td>\n",
       "      <td>1993</td>\n",
       "    </tr>\n",
       "    <tr>\n",
       "      <th>3</th>\n",
       "      <td>1998 HONDA CR-V LX</td>\n",
       "      <td>925</td>\n",
       "      <td>194018.0</td>\n",
       "      <td>BLUE</td>\n",
       "      <td>AUTOMATIC</td>\n",
       "      <td>HONDA</td>\n",
       "      <td>1998</td>\n",
       "    </tr>\n",
       "    <tr>\n",
       "      <th>4</th>\n",
       "      <td>1999 CHEVROLET TAHOE K1500 Wagon 4 Door</td>\n",
       "      <td>750</td>\n",
       "      <td>264054.0</td>\n",
       "      <td>GRAY</td>\n",
       "      <td>Automatic</td>\n",
       "      <td>CHEVROLET</td>\n",
       "      <td>1999</td>\n",
       "    </tr>\n",
       "  </tbody>\n",
       "</table>\n",
       "</div>"
      ],
      "text/plain": [
       "                                      name  price   mileage     colour  \\\n",
       "0   2000 BUICK CENTURY CUSTOM Sedan 4 Door    357       1.0  CHAMPAGNE   \n",
       "1                      2004 HONDA CIVIC LX    850  134095.0       GRAY   \n",
       "2                     1993 FORD MUSTANG LX    975   99086.0      WHITE   \n",
       "3                       1998 HONDA CR-V LX    925  194018.0       BLUE   \n",
       "4  1999 CHEVROLET TAHOE K1500 Wagon 4 Door    750  264054.0       GRAY   \n",
       "\n",
       "  transmission       make  year  \n",
       "0    Automatic      BUICK  2000  \n",
       "1    AUTOMATIC      HONDA  2004  \n",
       "2    AUTOMATIC       FORD  1993  \n",
       "3    AUTOMATIC      HONDA  1998  \n",
       "4    Automatic  CHEVROLET  1999  "
      ]
     },
     "execution_count": 337,
     "metadata": {},
     "output_type": "execute_result"
    }
   ],
   "source": [
    "data.head()"
   ]
  },
  {
   "cell_type": "markdown",
   "metadata": {},
   "source": [
    "## Colour"
   ]
  },
  {
   "cell_type": "code",
   "execution_count": 338,
   "metadata": {
    "scrolled": true
   },
   "outputs": [
    {
     "data": {
      "text/plain": [
       "array(['CHAMPAGNE', 'GRAY', 'WHITE', 'BLUE', 'GREEN', 'BLACK', 'BEIGE',\n",
       "       'RED', 'SILVER', 'PURPLE', 'MAROON', 'TEAL', 'BROWN', 'TAN',\n",
       "       'BURGUNDY', 'GOLD', 'DARK BLUE', 'LIGHT BLUE', 'YELLOW', 'ORANGE',\n",
       "       'CHARCOAL', nan, 'TWO TONE', 'CREAM'], dtype=object)"
      ]
     },
     "execution_count": 338,
     "metadata": {},
     "output_type": "execute_result"
    }
   ],
   "source": [
    "data['colour'].unique()"
   ]
  },
  {
   "cell_type": "markdown",
   "metadata": {},
   "source": [
    "The colour column is okay"
   ]
  },
  {
   "cell_type": "markdown",
   "metadata": {},
   "source": [
    "## Transmission"
   ]
  },
  {
   "cell_type": "code",
   "execution_count": 339,
   "metadata": {},
   "outputs": [
    {
     "data": {
      "text/plain": [
       "array(['Automatic', 'AUTOMATIC', 'MANUAL', 'Missing', 'Unknown', 'Manual',\n",
       "       nan], dtype=object)"
      ]
     },
     "execution_count": 339,
     "metadata": {},
     "output_type": "execute_result"
    }
   ],
   "source": [
    "data['transmission'].unique()"
   ]
  },
  {
   "cell_type": "markdown",
   "metadata": {},
   "source": [
    "This column contains wrong words like 'Missing' and 'Unknown'. We have to first change them to nan"
   ]
  },
  {
   "cell_type": "code",
   "execution_count": 340,
   "metadata": {},
   "outputs": [],
   "source": [
    "data['transmission'] = data['transmission'].replace('Missing', np.NaN)\n",
    "data['transmission'] = data['transmission'].replace('Unknown', np.NaN)"
   ]
  },
  {
   "cell_type": "markdown",
   "metadata": {},
   "source": [
    "Now, we change 'Automatic' to 'AUTOMATIC' and 'Manual' to 'MANUAL'"
   ]
  },
  {
   "cell_type": "code",
   "execution_count": 341,
   "metadata": {},
   "outputs": [],
   "source": [
    "data['transmission'] = data['transmission'].replace('Automatic', 'AUTOMATIC')\n",
    "data['transmission'] = data['transmission'].replace('Manual', 'MANUAL')"
   ]
  },
  {
   "cell_type": "markdown",
   "metadata": {},
   "source": [
    "  "
   ]
  },
  {
   "cell_type": "markdown",
   "metadata": {},
   "source": [
    "We can't work with the year column like that, we have to convert it to age so that it will be easy to understand"
   ]
  },
  {
   "cell_type": "code",
   "execution_count": 342,
   "metadata": {},
   "outputs": [],
   "source": [
    "#convert the year column to integer\n",
    "data['year']=data['year'].astype(str).astype(int)"
   ]
  },
  {
   "cell_type": "code",
   "execution_count": 343,
   "metadata": {},
   "outputs": [],
   "source": [
    "Current_Year = 2021"
   ]
  },
  {
   "cell_type": "code",
   "execution_count": 344,
   "metadata": {},
   "outputs": [],
   "source": [
    "data['age'] = Current_Year - data['year']"
   ]
  },
  {
   "cell_type": "code",
   "execution_count": 345,
   "metadata": {},
   "outputs": [
    {
     "name": "stdout",
     "output_type": "stream",
     "text": [
      "<class 'pandas.core.frame.DataFrame'>\n",
      "RangeIndex: 2054 entries, 0 to 2053\n",
      "Data columns (total 8 columns):\n",
      " #   Column        Non-Null Count  Dtype  \n",
      "---  ------        --------------  -----  \n",
      " 0   name          2054 non-null   object \n",
      " 1   price         2054 non-null   int64  \n",
      " 2   mileage       2034 non-null   float64\n",
      " 3   colour        2043 non-null   object \n",
      " 4   transmission  1897 non-null   object \n",
      " 5   make          2054 non-null   object \n",
      " 6   year          2054 non-null   int32  \n",
      " 7   age           2054 non-null   int32  \n",
      "dtypes: float64(1), int32(2), int64(1), object(4)\n",
      "memory usage: 112.5+ KB\n"
     ]
    }
   ],
   "source": [
    "data.info()"
   ]
  },
  {
   "cell_type": "markdown",
   "metadata": {},
   "source": [
    "Reorder the columns to make the dataframe easy to understand"
   ]
  },
  {
   "cell_type": "code",
   "execution_count": 346,
   "metadata": {},
   "outputs": [
    {
     "data": {
      "text/html": [
       "<div>\n",
       "<style scoped>\n",
       "    .dataframe tbody tr th:only-of-type {\n",
       "        vertical-align: middle;\n",
       "    }\n",
       "\n",
       "    .dataframe tbody tr th {\n",
       "        vertical-align: top;\n",
       "    }\n",
       "\n",
       "    .dataframe thead th {\n",
       "        text-align: right;\n",
       "    }\n",
       "</style>\n",
       "<table border=\"1\" class=\"dataframe\">\n",
       "  <thead>\n",
       "    <tr style=\"text-align: right;\">\n",
       "      <th></th>\n",
       "      <th>name</th>\n",
       "      <th>make</th>\n",
       "      <th>year</th>\n",
       "      <th>age</th>\n",
       "      <th>mileage</th>\n",
       "      <th>transmission</th>\n",
       "      <th>colour</th>\n",
       "      <th>price</th>\n",
       "    </tr>\n",
       "  </thead>\n",
       "  <tbody>\n",
       "    <tr>\n",
       "      <th>0</th>\n",
       "      <td>2000 BUICK CENTURY CUSTOM Sedan 4 Door</td>\n",
       "      <td>BUICK</td>\n",
       "      <td>2000</td>\n",
       "      <td>21</td>\n",
       "      <td>1.0</td>\n",
       "      <td>AUTOMATIC</td>\n",
       "      <td>CHAMPAGNE</td>\n",
       "      <td>357</td>\n",
       "    </tr>\n",
       "    <tr>\n",
       "      <th>1</th>\n",
       "      <td>2004 HONDA CIVIC LX</td>\n",
       "      <td>HONDA</td>\n",
       "      <td>2004</td>\n",
       "      <td>17</td>\n",
       "      <td>134095.0</td>\n",
       "      <td>AUTOMATIC</td>\n",
       "      <td>GRAY</td>\n",
       "      <td>850</td>\n",
       "    </tr>\n",
       "    <tr>\n",
       "      <th>2</th>\n",
       "      <td>1993 FORD MUSTANG LX</td>\n",
       "      <td>FORD</td>\n",
       "      <td>1993</td>\n",
       "      <td>28</td>\n",
       "      <td>99086.0</td>\n",
       "      <td>AUTOMATIC</td>\n",
       "      <td>WHITE</td>\n",
       "      <td>975</td>\n",
       "    </tr>\n",
       "    <tr>\n",
       "      <th>3</th>\n",
       "      <td>1998 HONDA CR-V LX</td>\n",
       "      <td>HONDA</td>\n",
       "      <td>1998</td>\n",
       "      <td>23</td>\n",
       "      <td>194018.0</td>\n",
       "      <td>AUTOMATIC</td>\n",
       "      <td>BLUE</td>\n",
       "      <td>925</td>\n",
       "    </tr>\n",
       "    <tr>\n",
       "      <th>4</th>\n",
       "      <td>1999 CHEVROLET TAHOE K1500 Wagon 4 Door</td>\n",
       "      <td>CHEVROLET</td>\n",
       "      <td>1999</td>\n",
       "      <td>22</td>\n",
       "      <td>264054.0</td>\n",
       "      <td>AUTOMATIC</td>\n",
       "      <td>GRAY</td>\n",
       "      <td>750</td>\n",
       "    </tr>\n",
       "  </tbody>\n",
       "</table>\n",
       "</div>"
      ],
      "text/plain": [
       "                                      name       make  year  age   mileage  \\\n",
       "0   2000 BUICK CENTURY CUSTOM Sedan 4 Door      BUICK  2000   21       1.0   \n",
       "1                      2004 HONDA CIVIC LX      HONDA  2004   17  134095.0   \n",
       "2                     1993 FORD MUSTANG LX       FORD  1993   28   99086.0   \n",
       "3                       1998 HONDA CR-V LX      HONDA  1998   23  194018.0   \n",
       "4  1999 CHEVROLET TAHOE K1500 Wagon 4 Door  CHEVROLET  1999   22  264054.0   \n",
       "\n",
       "  transmission     colour  price  \n",
       "0    AUTOMATIC  CHAMPAGNE    357  \n",
       "1    AUTOMATIC       GRAY    850  \n",
       "2    AUTOMATIC      WHITE    975  \n",
       "3    AUTOMATIC       BLUE    925  \n",
       "4    AUTOMATIC       GRAY    750  "
      ]
     },
     "execution_count": 346,
     "metadata": {},
     "output_type": "execute_result"
    }
   ],
   "source": [
    "data = data[['name', 'make', 'year', 'age', 'mileage', 'transmission', 'colour', 'price']]\n",
    "data.head()"
   ]
  },
  {
   "cell_type": "code",
   "execution_count": 347,
   "metadata": {},
   "outputs": [],
   "source": [
    "# Replace missing values using mode and median for categorical and numerical features respectively\n",
    "data['mileage'] = data['mileage'].fillna(data['mileage'].mean())\n",
    "data['colour'] = data['colour'].fillna(data['colour'].mode()[0])\n",
    "data['transmission'] = data['transmission'].fillna(data['transmission'].mode()[0])"
   ]
  },
  {
   "cell_type": "code",
   "execution_count": 348,
   "metadata": {},
   "outputs": [
    {
     "data": {
      "text/plain": [
       "name            0\n",
       "make            0\n",
       "year            0\n",
       "age             0\n",
       "mileage         0\n",
       "transmission    0\n",
       "colour          0\n",
       "price           0\n",
       "dtype: int64"
      ]
     },
     "execution_count": 348,
     "metadata": {},
     "output_type": "execute_result"
    }
   ],
   "source": [
    "data.isnull().sum()"
   ]
  },
  {
   "cell_type": "code",
   "execution_count": 349,
   "metadata": {},
   "outputs": [],
   "source": [
    "data.to_csv('cleaned_car_data.csv', index = False)"
   ]
  },
  {
   "cell_type": "code",
   "execution_count": null,
   "metadata": {},
   "outputs": [],
   "source": []
  }
 ],
 "metadata": {
  "kernelspec": {
   "display_name": "Python 3",
   "language": "python",
   "name": "python3"
  },
  "language_info": {
   "codemirror_mode": {
    "name": "ipython",
    "version": 3
   },
   "file_extension": ".py",
   "mimetype": "text/x-python",
   "name": "python",
   "nbconvert_exporter": "python",
   "pygments_lexer": "ipython3",
   "version": "3.8.5"
  }
 },
 "nbformat": 4,
 "nbformat_minor": 4
}
