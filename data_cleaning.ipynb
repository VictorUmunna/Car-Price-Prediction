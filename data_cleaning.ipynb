{
 "cells": [
  {
   "cell_type": "code",
   "execution_count": 9,
   "metadata": {},
   "outputs": [],
   "source": [
    "# import modules and libraries\n",
    "import pandas as pd\n",
    "import numpy as np\n",
    "import matplotlib.pyplot as plt\n",
    "import seaborn as sns"
   ]
  },
  {
   "cell_type": "code",
   "execution_count": 10,
   "metadata": {},
   "outputs": [
    {
     "data": {
      "text/html": [
       "<div>\n",
       "<style scoped>\n",
       "    .dataframe tbody tr th:only-of-type {\n",
       "        vertical-align: middle;\n",
       "    }\n",
       "\n",
       "    .dataframe tbody tr th {\n",
       "        vertical-align: top;\n",
       "    }\n",
       "\n",
       "    .dataframe thead th {\n",
       "        text-align: right;\n",
       "    }\n",
       "</style>\n",
       "<table border=\"1\" class=\"dataframe\">\n",
       "  <thead>\n",
       "    <tr style=\"text-align: right;\">\n",
       "      <th></th>\n",
       "      <th>name</th>\n",
       "      <th>price</th>\n",
       "      <th>mileage</th>\n",
       "      <th>colour</th>\n",
       "      <th>transmission</th>\n",
       "    </tr>\n",
       "  </thead>\n",
       "  <tbody>\n",
       "    <tr>\n",
       "      <th>0</th>\n",
       "      <td>2000 BUICK CENTURY CUSTOM Sedan 4 Door</td>\n",
       "      <td>$ 357</td>\n",
       "      <td>1</td>\n",
       "      <td>CHAMPAGNE</td>\n",
       "      <td>Automatic</td>\n",
       "    </tr>\n",
       "    <tr>\n",
       "      <th>1</th>\n",
       "      <td>2004 HONDA CIVIC LX</td>\n",
       "      <td>$ 850</td>\n",
       "      <td>134095.0</td>\n",
       "      <td>GRAY</td>\n",
       "      <td>AUTOMATIC</td>\n",
       "    </tr>\n",
       "    <tr>\n",
       "      <th>2</th>\n",
       "      <td>1993 FORD MUSTANG LX</td>\n",
       "      <td>$ 975</td>\n",
       "      <td>99086.0</td>\n",
       "      <td>WHITE</td>\n",
       "      <td>AUTOMATIC</td>\n",
       "    </tr>\n",
       "    <tr>\n",
       "      <th>3</th>\n",
       "      <td>1998 HONDA CR-V LX</td>\n",
       "      <td>$ 925</td>\n",
       "      <td>194018.0</td>\n",
       "      <td>BLUE</td>\n",
       "      <td>AUTOMATIC</td>\n",
       "    </tr>\n",
       "    <tr>\n",
       "      <th>4</th>\n",
       "      <td>1999 CHEVROLET TAHOE K1500 Wagon 4 Door</td>\n",
       "      <td>$ 750</td>\n",
       "      <td>264054</td>\n",
       "      <td>GRAY</td>\n",
       "      <td>Automatic</td>\n",
       "    </tr>\n",
       "    <tr>\n",
       "      <th>5</th>\n",
       "      <td>2004 HONDA CIVIC EX</td>\n",
       "      <td>$ 1,000</td>\n",
       "      <td>0.0</td>\n",
       "      <td>GRAY</td>\n",
       "      <td>AUTOMATIC</td>\n",
       "    </tr>\n",
       "    <tr>\n",
       "      <th>6</th>\n",
       "      <td>2009 DODGE JOURNEY SE Wagon 4 Door</td>\n",
       "      <td>$ 1,000</td>\n",
       "      <td>216676</td>\n",
       "      <td>GREEN</td>\n",
       "      <td>Automatic</td>\n",
       "    </tr>\n",
       "    <tr>\n",
       "      <th>7</th>\n",
       "      <td>2002 HONDA ACCORD EX</td>\n",
       "      <td>$ 725</td>\n",
       "      <td>218985.0</td>\n",
       "      <td>BLACK</td>\n",
       "      <td>AUTOMATIC</td>\n",
       "    </tr>\n",
       "    <tr>\n",
       "      <th>8</th>\n",
       "      <td>2002 DODGE DAKOTA BAS</td>\n",
       "      <td>$ 900</td>\n",
       "      <td>157868.0</td>\n",
       "      <td>BLUE</td>\n",
       "      <td>AUTOMATIC</td>\n",
       "    </tr>\n",
       "    <tr>\n",
       "      <th>9</th>\n",
       "      <td>2006 HYUNDAI ACCENT GLS</td>\n",
       "      <td>$ 950</td>\n",
       "      <td>145902.0</td>\n",
       "      <td>BLUE</td>\n",
       "      <td>AUTOMATIC</td>\n",
       "    </tr>\n",
       "  </tbody>\n",
       "</table>\n",
       "</div>"
      ],
      "text/plain": [
       "                                      name    price   mileage     colour  \\\n",
       "0   2000 BUICK CENTURY CUSTOM Sedan 4 Door    $ 357         1  CHAMPAGNE   \n",
       "1                      2004 HONDA CIVIC LX    $ 850  134095.0       GRAY   \n",
       "2                     1993 FORD MUSTANG LX    $ 975   99086.0      WHITE   \n",
       "3                       1998 HONDA CR-V LX    $ 925  194018.0       BLUE   \n",
       "4  1999 CHEVROLET TAHOE K1500 Wagon 4 Door    $ 750    264054       GRAY   \n",
       "5                      2004 HONDA CIVIC EX  $ 1,000       0.0       GRAY   \n",
       "6       2009 DODGE JOURNEY SE Wagon 4 Door  $ 1,000    216676      GREEN   \n",
       "7                     2002 HONDA ACCORD EX    $ 725  218985.0      BLACK   \n",
       "8                    2002 DODGE DAKOTA BAS    $ 900  157868.0       BLUE   \n",
       "9                  2006 HYUNDAI ACCENT GLS    $ 950  145902.0       BLUE   \n",
       "\n",
       "  transmission  \n",
       "0    Automatic  \n",
       "1    AUTOMATIC  \n",
       "2    AUTOMATIC  \n",
       "3    AUTOMATIC  \n",
       "4    Automatic  \n",
       "5    AUTOMATIC  \n",
       "6    Automatic  \n",
       "7    AUTOMATIC  \n",
       "8    AUTOMATIC  \n",
       "9    AUTOMATIC  "
      ]
     },
     "execution_count": 10,
     "metadata": {},
     "output_type": "execute_result"
    }
   ],
   "source": [
    "data = pd.read_csv('car_data.csv')\n",
    "data.head(10)"
   ]
  },
  {
   "cell_type": "code",
   "execution_count": 11,
   "metadata": {},
   "outputs": [
    {
     "data": {
      "text/plain": [
       "(2054, 5)"
      ]
     },
     "execution_count": 11,
     "metadata": {},
     "output_type": "execute_result"
    }
   ],
   "source": [
    "data.shape"
   ]
  },
  {
   "cell_type": "code",
   "execution_count": 12,
   "metadata": {},
   "outputs": [
    {
     "data": {
      "text/html": [
       "<div>\n",
       "<style scoped>\n",
       "    .dataframe tbody tr th:only-of-type {\n",
       "        vertical-align: middle;\n",
       "    }\n",
       "\n",
       "    .dataframe tbody tr th {\n",
       "        vertical-align: top;\n",
       "    }\n",
       "\n",
       "    .dataframe thead th {\n",
       "        text-align: right;\n",
       "    }\n",
       "</style>\n",
       "<table border=\"1\" class=\"dataframe\">\n",
       "  <thead>\n",
       "    <tr style=\"text-align: right;\">\n",
       "      <th></th>\n",
       "      <th>name</th>\n",
       "      <th>price</th>\n",
       "      <th>mileage</th>\n",
       "      <th>colour</th>\n",
       "      <th>transmission</th>\n",
       "    </tr>\n",
       "  </thead>\n",
       "  <tbody>\n",
       "    <tr>\n",
       "      <th>count</th>\n",
       "      <td>2054</td>\n",
       "      <td>2054</td>\n",
       "      <td>2034</td>\n",
       "      <td>2043</td>\n",
       "      <td>2036</td>\n",
       "    </tr>\n",
       "    <tr>\n",
       "      <th>unique</th>\n",
       "      <td>455</td>\n",
       "      <td>34</td>\n",
       "      <td>464</td>\n",
       "      <td>23</td>\n",
       "      <td>6</td>\n",
       "    </tr>\n",
       "    <tr>\n",
       "      <th>top</th>\n",
       "      <td>2006 CADILLAC DTS Sedan 4 Door</td>\n",
       "      <td>$ 800</td>\n",
       "      <td>0.0</td>\n",
       "      <td>SILVER</td>\n",
       "      <td>AUTOMATIC</td>\n",
       "    </tr>\n",
       "    <tr>\n",
       "      <th>freq</th>\n",
       "      <td>24</td>\n",
       "      <td>177</td>\n",
       "      <td>171</td>\n",
       "      <td>362</td>\n",
       "      <td>978</td>\n",
       "    </tr>\n",
       "  </tbody>\n",
       "</table>\n",
       "</div>"
      ],
      "text/plain": [
       "                                  name  price mileage  colour transmission\n",
       "count                             2054   2054    2034    2043         2036\n",
       "unique                             455     34     464      23            6\n",
       "top     2006 CADILLAC DTS Sedan 4 Door  $ 800     0.0  SILVER    AUTOMATIC\n",
       "freq                                24    177     171     362          978"
      ]
     },
     "execution_count": 12,
     "metadata": {},
     "output_type": "execute_result"
    }
   ],
   "source": [
    "data.describe()"
   ]
  },
  {
   "cell_type": "code",
   "execution_count": 13,
   "metadata": {
    "scrolled": false
   },
   "outputs": [
    {
     "name": "stdout",
     "output_type": "stream",
     "text": [
      "<class 'pandas.core.frame.DataFrame'>\n",
      "RangeIndex: 2054 entries, 0 to 2053\n",
      "Data columns (total 5 columns):\n",
      " #   Column        Non-Null Count  Dtype \n",
      "---  ------        --------------  ----- \n",
      " 0   name          2054 non-null   object\n",
      " 1   price         2054 non-null   object\n",
      " 2   mileage       2034 non-null   object\n",
      " 3   colour        2043 non-null   object\n",
      " 4   transmission  2036 non-null   object\n",
      "dtypes: object(5)\n",
      "memory usage: 80.4+ KB\n"
     ]
    }
   ],
   "source": [
    "data.info()"
   ]
  },
  {
   "cell_type": "code",
   "execution_count": 14,
   "metadata": {},
   "outputs": [
    {
     "data": {
      "text/plain": [
       "name             0\n",
       "price            0\n",
       "mileage         20\n",
       "colour          11\n",
       "transmission    18\n",
       "dtype: int64"
      ]
     },
     "execution_count": 14,
     "metadata": {},
     "output_type": "execute_result"
    }
   ],
   "source": [
    "data.isnull().sum()"
   ]
  },
  {
   "cell_type": "markdown",
   "metadata": {},
   "source": [
    "We have to deal with the zero values in the mileage, colour and transmission columns."
   ]
  },
  {
   "cell_type": "code",
   "execution_count": 15,
   "metadata": {},
   "outputs": [
    {
     "data": {
      "text/plain": [
       "0        BUICK\n",
       "1        HONDA\n",
       "2         FORD\n",
       "3        HONDA\n",
       "4    CHEVROLET\n",
       "Name: make, dtype: object"
      ]
     },
     "execution_count": 15,
     "metadata": {},
     "output_type": "execute_result"
    }
   ],
   "source": [
    "data['make'] = data['name'].apply(lambda x: x.split(' ')[1])\n",
    "data['make'].head()"
   ]
  },
  {
   "cell_type": "code",
   "execution_count": null,
   "metadata": {},
   "outputs": [],
   "source": []
  }
 ],
 "metadata": {
  "kernelspec": {
   "display_name": "Python 3",
   "language": "python",
   "name": "python3"
  },
  "language_info": {
   "codemirror_mode": {
    "name": "ipython",
    "version": 3
   },
   "file_extension": ".py",
   "mimetype": "text/x-python",
   "name": "python",
   "nbconvert_exporter": "python",
   "pygments_lexer": "ipython3",
   "version": "3.8.5"
  }
 },
 "nbformat": 4,
 "nbformat_minor": 4
}
