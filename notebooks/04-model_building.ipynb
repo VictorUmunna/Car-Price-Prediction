{
 "cells": [
  {
   "cell_type": "markdown",
   "metadata": {},
   "source": [
    "# MODEL BUILDING"
   ]
  },
  {
   "cell_type": "code",
   "execution_count": 49,
   "metadata": {},
   "outputs": [],
   "source": [
    "# import the relevant libraries\n",
    "import pandas as pd\n",
    "import numpy as np\n",
    "from sklearn.preprocessing import LabelEncoder\n",
    "from sklearn.model_selection import train_test_split, GridSearchCV\n",
    "from sklearn.preprocessing import MinMaxScaler\n",
    "from sklearn.linear_model import LinearRegression, Ridge\n",
    "from sklearn.ensemble import ExtraTreesRegressor\n",
    "from lightgbm import LGBMRegressor\n",
    "from xgboost import XGBRegressor\n",
    "from sklearn.ensemble import RandomForestRegressor\n",
    "from catboost import CatBoostRegressor\n",
    "from sklearn.metrics import mean_absolute_error, accuracy_score, mean_squared_error\n",
    "from sklearn import metrics\n",
    "import warnings\n",
    "warnings.filterwarnings('ignore')\n",
    "import pickle"
   ]
  },
  {
   "cell_type": "code",
   "execution_count": 50,
   "metadata": {},
   "outputs": [
    {
     "data": {
      "text/html": [
       "<div>\n",
       "<style scoped>\n",
       "    .dataframe tbody tr th:only-of-type {\n",
       "        vertical-align: middle;\n",
       "    }\n",
       "\n",
       "    .dataframe tbody tr th {\n",
       "        vertical-align: top;\n",
       "    }\n",
       "\n",
       "    .dataframe thead th {\n",
       "        text-align: right;\n",
       "    }\n",
       "</style>\n",
       "<table border=\"1\" class=\"dataframe\">\n",
       "  <thead>\n",
       "    <tr style=\"text-align: right;\">\n",
       "      <th></th>\n",
       "      <th>name</th>\n",
       "      <th>manufacturer</th>\n",
       "      <th>year</th>\n",
       "      <th>age</th>\n",
       "      <th>mileage</th>\n",
       "      <th>engine</th>\n",
       "      <th>transmission</th>\n",
       "      <th>price</th>\n",
       "    </tr>\n",
       "  </thead>\n",
       "  <tbody>\n",
       "    <tr>\n",
       "      <th>0</th>\n",
       "      <td>Mazda MX5</td>\n",
       "      <td>Mazda</td>\n",
       "      <td>2007</td>\n",
       "      <td>14</td>\n",
       "      <td>63131</td>\n",
       "      <td>Petrol</td>\n",
       "      <td>Manual</td>\n",
       "      <td>7499</td>\n",
       "    </tr>\n",
       "    <tr>\n",
       "      <th>1</th>\n",
       "      <td>Jaguar XF</td>\n",
       "      <td>Jaguar</td>\n",
       "      <td>2010</td>\n",
       "      <td>11</td>\n",
       "      <td>61890</td>\n",
       "      <td>Petrol</td>\n",
       "      <td>Automatic</td>\n",
       "      <td>7775</td>\n",
       "    </tr>\n",
       "    <tr>\n",
       "      <th>2</th>\n",
       "      <td>Audi A6</td>\n",
       "      <td>Audi</td>\n",
       "      <td>2012</td>\n",
       "      <td>9</td>\n",
       "      <td>129170</td>\n",
       "      <td>Diesel</td>\n",
       "      <td>Automatic</td>\n",
       "      <td>6950</td>\n",
       "    </tr>\n",
       "    <tr>\n",
       "      <th>3</th>\n",
       "      <td>Nissan Qashqai</td>\n",
       "      <td>Nissan</td>\n",
       "      <td>2013</td>\n",
       "      <td>8</td>\n",
       "      <td>44900</td>\n",
       "      <td>Petrol</td>\n",
       "      <td>Automatic</td>\n",
       "      <td>7790</td>\n",
       "    </tr>\n",
       "    <tr>\n",
       "      <th>4</th>\n",
       "      <td>MINI Mini</td>\n",
       "      <td>Mini</td>\n",
       "      <td>2017</td>\n",
       "      <td>4</td>\n",
       "      <td>32012</td>\n",
       "      <td>Petrol</td>\n",
       "      <td>Manual</td>\n",
       "      <td>15999</td>\n",
       "    </tr>\n",
       "  </tbody>\n",
       "</table>\n",
       "</div>"
      ],
      "text/plain": [
       "             name manufacturer  year  age  mileage  engine transmission  price\n",
       "0       Mazda MX5        Mazda  2007   14    63131  Petrol       Manual   7499\n",
       "1       Jaguar XF       Jaguar  2010   11    61890  Petrol    Automatic   7775\n",
       "2         Audi A6         Audi  2012    9   129170  Diesel    Automatic   6950\n",
       "3  Nissan Qashqai       Nissan  2013    8    44900  Petrol    Automatic   7790\n",
       "4       MINI Mini         Mini  2017    4    32012  Petrol       Manual  15999"
      ]
     },
     "execution_count": 50,
     "metadata": {},
     "output_type": "execute_result"
    }
   ],
   "source": [
    "data = pd.read_csv('../input/cleaned_car_data.csv')\n",
    "data.head()"
   ]
  },
  {
   "cell_type": "code",
   "execution_count": 51,
   "metadata": {},
   "outputs": [],
   "source": [
    "#drop the name and year columns because it is irrelevant in our model building\n",
    "data = data.drop(['name', 'year'], axis=1)"
   ]
  },
  {
   "cell_type": "code",
   "execution_count": 52,
   "metadata": {},
   "outputs": [
    {
     "data": {
      "text/html": [
       "<div>\n",
       "<style scoped>\n",
       "    .dataframe tbody tr th:only-of-type {\n",
       "        vertical-align: middle;\n",
       "    }\n",
       "\n",
       "    .dataframe tbody tr th {\n",
       "        vertical-align: top;\n",
       "    }\n",
       "\n",
       "    .dataframe thead th {\n",
       "        text-align: right;\n",
       "    }\n",
       "</style>\n",
       "<table border=\"1\" class=\"dataframe\">\n",
       "  <thead>\n",
       "    <tr style=\"text-align: right;\">\n",
       "      <th></th>\n",
       "      <th>manufacturer</th>\n",
       "      <th>age</th>\n",
       "      <th>mileage</th>\n",
       "      <th>engine</th>\n",
       "      <th>transmission</th>\n",
       "      <th>price</th>\n",
       "    </tr>\n",
       "  </thead>\n",
       "  <tbody>\n",
       "    <tr>\n",
       "      <th>0</th>\n",
       "      <td>Mazda</td>\n",
       "      <td>14</td>\n",
       "      <td>63131</td>\n",
       "      <td>Petrol</td>\n",
       "      <td>Manual</td>\n",
       "      <td>7499</td>\n",
       "    </tr>\n",
       "    <tr>\n",
       "      <th>1</th>\n",
       "      <td>Jaguar</td>\n",
       "      <td>11</td>\n",
       "      <td>61890</td>\n",
       "      <td>Petrol</td>\n",
       "      <td>Automatic</td>\n",
       "      <td>7775</td>\n",
       "    </tr>\n",
       "    <tr>\n",
       "      <th>2</th>\n",
       "      <td>Audi</td>\n",
       "      <td>9</td>\n",
       "      <td>129170</td>\n",
       "      <td>Diesel</td>\n",
       "      <td>Automatic</td>\n",
       "      <td>6950</td>\n",
       "    </tr>\n",
       "    <tr>\n",
       "      <th>3</th>\n",
       "      <td>Nissan</td>\n",
       "      <td>8</td>\n",
       "      <td>44900</td>\n",
       "      <td>Petrol</td>\n",
       "      <td>Automatic</td>\n",
       "      <td>7790</td>\n",
       "    </tr>\n",
       "    <tr>\n",
       "      <th>4</th>\n",
       "      <td>Mini</td>\n",
       "      <td>4</td>\n",
       "      <td>32012</td>\n",
       "      <td>Petrol</td>\n",
       "      <td>Manual</td>\n",
       "      <td>15999</td>\n",
       "    </tr>\n",
       "  </tbody>\n",
       "</table>\n",
       "</div>"
      ],
      "text/plain": [
       "  manufacturer  age  mileage  engine transmission  price\n",
       "0        Mazda   14    63131  Petrol       Manual   7499\n",
       "1       Jaguar   11    61890  Petrol    Automatic   7775\n",
       "2         Audi    9   129170  Diesel    Automatic   6950\n",
       "3       Nissan    8    44900  Petrol    Automatic   7790\n",
       "4         Mini    4    32012  Petrol       Manual  15999"
      ]
     },
     "execution_count": 52,
     "metadata": {},
     "output_type": "execute_result"
    }
   ],
   "source": [
    "data.head()"
   ]
  },
  {
   "cell_type": "code",
   "execution_count": 53,
   "metadata": {},
   "outputs": [
    {
     "data": {
      "text/plain": [
       "array(['Mazda', 'Jaguar', 'Audi', 'Nissan', 'Mini', 'Mercedes-Benz',\n",
       "       'Volkswagen', 'Vauxhall', 'Toyota', 'Skoda', 'Ford', 'Chevrolet',\n",
       "       'BMW', 'Suzuki', 'Renault', 'Peugeot', 'Citroen', 'Volvo', 'Fiat',\n",
       "       'DS', 'Dacia', 'Abarth', 'Smart', 'Seat', 'Mitsubishi', 'MG',\n",
       "       'Lexus', 'Land-Rover', 'Kia', 'Jeep', 'Hyundai', 'Honda',\n",
       "       'Maserati', 'Subaru', 'Porsche', 'Infiniti', 'Bentley',\n",
       "       'Alfa-Romero', 'Chrysler', 'Isuzu'], dtype=object)"
      ]
     },
     "execution_count": 53,
     "metadata": {},
     "output_type": "execute_result"
    }
   ],
   "source": [
    "data['manufacturer'].unique()"
   ]
  },
  {
   "cell_type": "code",
   "execution_count": 54,
   "metadata": {},
   "outputs": [],
   "source": [
    "# label encode the categorical values\n",
    "le_manufacturer = LabelEncoder()\n",
    "le_engine = LabelEncoder()\n",
    "le_transmission = LabelEncoder()"
   ]
  },
  {
   "cell_type": "code",
   "execution_count": 55,
   "metadata": {},
   "outputs": [],
   "source": [
    "data['manufacturer'] = le_manufacturer.fit_transform(data['manufacturer'])\n",
    "data['engine'] = le_engine.fit_transform(data['engine'])\n",
    "data['transmission'] = le_transmission.fit_transform(data['transmission'])"
   ]
  },
  {
   "cell_type": "code",
   "execution_count": 56,
   "metadata": {},
   "outputs": [
    {
     "data": {
      "text/html": [
       "<div>\n",
       "<style scoped>\n",
       "    .dataframe tbody tr th:only-of-type {\n",
       "        vertical-align: middle;\n",
       "    }\n",
       "\n",
       "    .dataframe tbody tr th {\n",
       "        vertical-align: top;\n",
       "    }\n",
       "\n",
       "    .dataframe thead th {\n",
       "        text-align: right;\n",
       "    }\n",
       "</style>\n",
       "<table border=\"1\" class=\"dataframe\">\n",
       "  <thead>\n",
       "    <tr style=\"text-align: right;\">\n",
       "      <th></th>\n",
       "      <th>manufacturer</th>\n",
       "      <th>age</th>\n",
       "      <th>mileage</th>\n",
       "      <th>engine</th>\n",
       "      <th>transmission</th>\n",
       "      <th>price</th>\n",
       "    </tr>\n",
       "  </thead>\n",
       "  <tbody>\n",
       "    <tr>\n",
       "      <th>0</th>\n",
       "      <td>23</td>\n",
       "      <td>14</td>\n",
       "      <td>63131</td>\n",
       "      <td>3</td>\n",
       "      <td>1</td>\n",
       "      <td>7499</td>\n",
       "    </tr>\n",
       "    <tr>\n",
       "      <th>1</th>\n",
       "      <td>16</td>\n",
       "      <td>11</td>\n",
       "      <td>61890</td>\n",
       "      <td>3</td>\n",
       "      <td>0</td>\n",
       "      <td>7775</td>\n",
       "    </tr>\n",
       "    <tr>\n",
       "      <th>2</th>\n",
       "      <td>2</td>\n",
       "      <td>9</td>\n",
       "      <td>129170</td>\n",
       "      <td>0</td>\n",
       "      <td>0</td>\n",
       "      <td>6950</td>\n",
       "    </tr>\n",
       "    <tr>\n",
       "      <th>3</th>\n",
       "      <td>27</td>\n",
       "      <td>8</td>\n",
       "      <td>44900</td>\n",
       "      <td>3</td>\n",
       "      <td>0</td>\n",
       "      <td>7790</td>\n",
       "    </tr>\n",
       "    <tr>\n",
       "      <th>4</th>\n",
       "      <td>25</td>\n",
       "      <td>4</td>\n",
       "      <td>32012</td>\n",
       "      <td>3</td>\n",
       "      <td>1</td>\n",
       "      <td>15999</td>\n",
       "    </tr>\n",
       "    <tr>\n",
       "      <th>5</th>\n",
       "      <td>24</td>\n",
       "      <td>6</td>\n",
       "      <td>33050</td>\n",
       "      <td>0</td>\n",
       "      <td>0</td>\n",
       "      <td>10995</td>\n",
       "    </tr>\n",
       "    <tr>\n",
       "      <th>6</th>\n",
       "      <td>38</td>\n",
       "      <td>10</td>\n",
       "      <td>62000</td>\n",
       "      <td>0</td>\n",
       "      <td>1</td>\n",
       "      <td>7250</td>\n",
       "    </tr>\n",
       "    <tr>\n",
       "      <th>7</th>\n",
       "      <td>37</td>\n",
       "      <td>7</td>\n",
       "      <td>44000</td>\n",
       "      <td>3</td>\n",
       "      <td>1</td>\n",
       "      <td>5990</td>\n",
       "    </tr>\n",
       "    <tr>\n",
       "      <th>8</th>\n",
       "      <td>36</td>\n",
       "      <td>8</td>\n",
       "      <td>172000</td>\n",
       "      <td>2</td>\n",
       "      <td>0</td>\n",
       "      <td>6290</td>\n",
       "    </tr>\n",
       "    <tr>\n",
       "      <th>9</th>\n",
       "      <td>32</td>\n",
       "      <td>9</td>\n",
       "      <td>74000</td>\n",
       "      <td>0</td>\n",
       "      <td>1</td>\n",
       "      <td>4450</td>\n",
       "    </tr>\n",
       "  </tbody>\n",
       "</table>\n",
       "</div>"
      ],
      "text/plain": [
       "   manufacturer  age  mileage  engine  transmission  price\n",
       "0            23   14    63131       3             1   7499\n",
       "1            16   11    61890       3             0   7775\n",
       "2             2    9   129170       0             0   6950\n",
       "3            27    8    44900       3             0   7790\n",
       "4            25    4    32012       3             1  15999\n",
       "5            24    6    33050       0             0  10995\n",
       "6            38   10    62000       0             1   7250\n",
       "7            37    7    44000       3             1   5990\n",
       "8            36    8   172000       2             0   6290\n",
       "9            32    9    74000       0             1   4450"
      ]
     },
     "execution_count": 56,
     "metadata": {},
     "output_type": "execute_result"
    }
   ],
   "source": [
    "data.head(10)"
   ]
  },
  {
   "cell_type": "code",
   "execution_count": 57,
   "metadata": {},
   "outputs": [],
   "source": [
    "# creating X and y variables\n",
    "X = data.drop('price', axis=1)\n",
    "\n",
    "# log transform the price column\n",
    "y = np.log(data['price'])"
   ]
  },
  {
   "cell_type": "code",
   "execution_count": 58,
   "metadata": {},
   "outputs": [],
   "source": [
    "#train test split\n",
    "X_train, X_test, y_train, y_test = train_test_split(X, y, test_size=0.3, random_state=42)"
   ]
  },
  {
   "cell_type": "code",
   "execution_count": 59,
   "metadata": {},
   "outputs": [
    {
     "data": {
      "text/plain": [
       "((2090, 5), (896, 5), (2090,), (896,))"
      ]
     },
     "execution_count": 59,
     "metadata": {},
     "output_type": "execute_result"
    }
   ],
   "source": [
    "X_train.shape, X_test.shape, y_train.shape, y_test.shape"
   ]
  },
  {
   "cell_type": "code",
   "execution_count": 60,
   "metadata": {},
   "outputs": [
    {
     "name": "stdout",
     "output_type": "stream",
     "text": [
      "[[0.05128205 0.16666667 0.13713793 0.         0.        ]\n",
      " [0.46153846 0.04166667 0.0308516  0.5        0.        ]\n",
      " [0.82051282 0.         0.03725164 0.         1.        ]\n",
      " ...\n",
      " [0.07692308 0.41666667 0.28336733 0.         0.        ]\n",
      " [0.69230769 0.20833333 0.22733844 0.75       0.5       ]\n",
      " [0.92307692 0.375      0.16930954 0.75       0.        ]]\n",
      "\n",
      "\n",
      "[[0.97435897 0.04166667 0.03048589 0.75       0.5       ]\n",
      " [0.33333333 0.125      0.07322899 0.75       1.        ]\n",
      " [0.76923077 0.04166667 0.02873159 0.75       1.        ]\n",
      " ...\n",
      " [0.05128205 0.58333333 0.7828559  0.         0.        ]\n",
      " [0.79487179 0.33333333 0.29713884 0.         0.        ]\n",
      " [0.94871795 0.04166667 0.03975451 0.75       0.5       ]]\n"
     ]
    }
   ],
   "source": [
    "# feature scale the X_train and X_test values\n",
    "\n",
    "norm = MinMaxScaler().fit(X_train)\n",
    "\n",
    "# transform training data\n",
    "X_train = norm.transform(X_train)\n",
    "\n",
    "# transform testing data\n",
    "X_test = norm.transform(X_test)\n",
    "\n",
    "print(X_train)\n",
    "print('\\n')\n",
    "print(X_test)\n"
   ]
  },
  {
   "cell_type": "code",
   "execution_count": 61,
   "metadata": {},
   "outputs": [],
   "source": [
    "models = {\n",
    "    'linear_model': LinearRegression(),\n",
    "    'ridge_model': Ridge(random_state=123),\n",
    "    'extree_model':ExtraTreesRegressor(random_state = 123),\n",
    "    'lgbm_model':LGBMRegressor(random_state = 123),\n",
    "    'xgboost_model':XGBRegressor(random_state = 123),\n",
    "    'rf_model' : RandomForestRegressor(random_state = 123)\n",
    " }"
   ]
  },
  {
   "cell_type": "code",
   "execution_count": 62,
   "metadata": {},
   "outputs": [],
   "source": [
    "def train_model(models: dict) -> pd.DataFrame:\n",
    "    \"\"\"\n",
    "    It takes in a dictionary containing a key-pair of model name and estimators.\n",
    "    It returns a data frame containing the metrics of the trained model.\n",
    "    \"\"\"\n",
    "    my_dict = {}\n",
    "    name_list, train_score_list, r_sqd_list, mae_list, rmse_list = [], [], [], [], []\n",
    "    for name, estimator in models.items():\n",
    "        # fit\n",
    "        estimator.fit(X_train, y_train)\n",
    "\n",
    "        # make predictions\n",
    "        y_pred = estimator.predict(X_test)\n",
    "\n",
    "        # metrics\n",
    "        train_score = estimator.score(X_train, y_train)\n",
    "        r_sqd = metrics.r2_score(y_test, y_pred)\n",
    "        mae = metrics.mean_absolute_error(y_test, y_pred)\n",
    "        mse = metrics.mean_squared_error(y_test, y_pred)\n",
    "        rmse = np.sqrt(mse)\n",
    "\n",
    "        # add the metrics to the empty list\n",
    "        name_list.append(name)\n",
    "        train_score_list.append(train_score)\n",
    "        r_sqd_list.append(r_sqd)\n",
    "        mae_list.append(mae)\n",
    "        rmse_list.append(rmse)\n",
    "\n",
    "    my_dict[\"Name\"] = name_list\n",
    "    my_dict[\"Train_Score\"] = train_score_list\n",
    "    my_dict[\"R_squared\"] = r_sqd_list\n",
    "    my_dict[\"Mean_absolute_error\"] = mae_list\n",
    "    my_dict[\"Root_mean_sqd_error\"] = rmse_list\n",
    "\n",
    "    my_dataframe = pd.DataFrame(my_dict)\n",
    "    my_dataframe = my_dataframe.sort_values(\"Root_mean_sqd_error\")\n",
    "    return my_dataframe"
   ]
  },
  {
   "cell_type": "code",
   "execution_count": 63,
   "metadata": {
    "scrolled": true
   },
   "outputs": [
    {
     "data": {
      "text/html": [
       "<div>\n",
       "<style scoped>\n",
       "    .dataframe tbody tr th:only-of-type {\n",
       "        vertical-align: middle;\n",
       "    }\n",
       "\n",
       "    .dataframe tbody tr th {\n",
       "        vertical-align: top;\n",
       "    }\n",
       "\n",
       "    .dataframe thead th {\n",
       "        text-align: right;\n",
       "    }\n",
       "</style>\n",
       "<table border=\"1\" class=\"dataframe\">\n",
       "  <thead>\n",
       "    <tr style=\"text-align: right;\">\n",
       "      <th></th>\n",
       "      <th>Name</th>\n",
       "      <th>Train_Score</th>\n",
       "      <th>R_squared</th>\n",
       "      <th>Mean_absolute_error</th>\n",
       "      <th>Root_mean_sqd_error</th>\n",
       "    </tr>\n",
       "  </thead>\n",
       "  <tbody>\n",
       "    <tr>\n",
       "      <th>3</th>\n",
       "      <td>lgbm_model</td>\n",
       "      <td>0.870977</td>\n",
       "      <td>0.781549</td>\n",
       "      <td>0.197763</td>\n",
       "      <td>0.261602</td>\n",
       "    </tr>\n",
       "    <tr>\n",
       "      <th>4</th>\n",
       "      <td>xgboost_model</td>\n",
       "      <td>0.951829</td>\n",
       "      <td>0.775469</td>\n",
       "      <td>0.202000</td>\n",
       "      <td>0.265217</td>\n",
       "    </tr>\n",
       "    <tr>\n",
       "      <th>5</th>\n",
       "      <td>rf_model</td>\n",
       "      <td>0.961506</td>\n",
       "      <td>0.745092</td>\n",
       "      <td>0.216515</td>\n",
       "      <td>0.282590</td>\n",
       "    </tr>\n",
       "    <tr>\n",
       "      <th>2</th>\n",
       "      <td>extree_model</td>\n",
       "      <td>0.999986</td>\n",
       "      <td>0.710235</td>\n",
       "      <td>0.228424</td>\n",
       "      <td>0.301291</td>\n",
       "    </tr>\n",
       "    <tr>\n",
       "      <th>1</th>\n",
       "      <td>ridge_model</td>\n",
       "      <td>0.587302</td>\n",
       "      <td>0.506338</td>\n",
       "      <td>0.285117</td>\n",
       "      <td>0.393259</td>\n",
       "    </tr>\n",
       "    <tr>\n",
       "      <th>0</th>\n",
       "      <td>linear_model</td>\n",
       "      <td>0.587771</td>\n",
       "      <td>0.498200</td>\n",
       "      <td>0.284037</td>\n",
       "      <td>0.396487</td>\n",
       "    </tr>\n",
       "  </tbody>\n",
       "</table>\n",
       "</div>"
      ],
      "text/plain": [
       "            Name  Train_Score  R_squared  Mean_absolute_error  \\\n",
       "3     lgbm_model     0.870977   0.781549             0.197763   \n",
       "4  xgboost_model     0.951829   0.775469             0.202000   \n",
       "5       rf_model     0.961506   0.745092             0.216515   \n",
       "2   extree_model     0.999986   0.710235             0.228424   \n",
       "1    ridge_model     0.587302   0.506338             0.285117   \n",
       "0   linear_model     0.587771   0.498200             0.284037   \n",
       "\n",
       "   Root_mean_sqd_error  \n",
       "3             0.261602  \n",
       "4             0.265217  \n",
       "5             0.282590  \n",
       "2             0.301291  \n",
       "1             0.393259  \n",
       "0             0.396487  "
      ]
     },
     "execution_count": 63,
     "metadata": {},
     "output_type": "execute_result"
    }
   ],
   "source": [
    "train_model(models)"
   ]
  },
  {
   "cell_type": "code",
   "execution_count": 64,
   "metadata": {},
   "outputs": [],
   "source": [
    "#create the grid\n",
    "grid = {'max_depth': [3,4,5],'n_estimators':[100, 200, 300]}\n",
    "\n",
    "#Instantiate GridSearchCV\n",
    "model = GridSearchCV (estimator = LGBMRegressor(random_state = 123), param_grid = grid, scoring ='neg_root_mean_squared_error', cv = 5)"
   ]
  },
  {
   "cell_type": "code",
   "execution_count": 65,
   "metadata": {},
   "outputs": [
    {
     "data": {
      "text/plain": [
       "GridSearchCV(cv=5, estimator=LGBMRegressor(random_state=123),\n",
       "             param_grid={'max_depth': [3, 4, 5],\n",
       "                         'n_estimators': [100, 200, 300]},\n",
       "             scoring='neg_root_mean_squared_error')"
      ]
     },
     "execution_count": 65,
     "metadata": {},
     "output_type": "execute_result"
    }
   ],
   "source": [
    "model.fit(X_train,y_train, verbose = False)"
   ]
  },
  {
   "cell_type": "code",
   "execution_count": 66,
   "metadata": {},
   "outputs": [],
   "source": [
    "y_pred = model.predict(X_test)"
   ]
  },
  {
   "cell_type": "code",
   "execution_count": 67,
   "metadata": {},
   "outputs": [
    {
     "data": {
      "text/html": [
       "<div>\n",
       "<style scoped>\n",
       "    .dataframe tbody tr th:only-of-type {\n",
       "        vertical-align: middle;\n",
       "    }\n",
       "\n",
       "    .dataframe tbody tr th {\n",
       "        vertical-align: top;\n",
       "    }\n",
       "\n",
       "    .dataframe thead th {\n",
       "        text-align: right;\n",
       "    }\n",
       "</style>\n",
       "<table border=\"1\" class=\"dataframe\">\n",
       "  <thead>\n",
       "    <tr style=\"text-align: right;\">\n",
       "      <th></th>\n",
       "      <th>model</th>\n",
       "      <th>r_squared</th>\n",
       "      <th>mae</th>\n",
       "      <th>rmse</th>\n",
       "    </tr>\n",
       "  </thead>\n",
       "  <tbody>\n",
       "    <tr>\n",
       "      <th>0</th>\n",
       "      <td>LGBM</td>\n",
       "      <td>0.790897</td>\n",
       "      <td>0.198254</td>\n",
       "      <td>0.255944</td>\n",
       "    </tr>\n",
       "  </tbody>\n",
       "</table>\n",
       "</div>"
      ],
      "text/plain": [
       "  model  r_squared       mae      rmse\n",
       "0  LGBM   0.790897  0.198254  0.255944"
      ]
     },
     "execution_count": 67,
     "metadata": {},
     "output_type": "execute_result"
    }
   ],
   "source": [
    "grid_model = pd.DataFrame({\n",
    "    'model': ['LGBM'],\n",
    "    'r_squared': [metrics.r2_score(y_test, y_pred)],\n",
    "    'mae': [mean_absolute_error(y_test, y_pred)],\n",
    "    'rmse': [np.sqrt(metrics.mean_squared_error(y_test, y_pred))]\n",
    "    })\n",
    "grid_model\n"
   ]
  },
  {
   "cell_type": "markdown",
   "metadata": {},
   "source": [
    "#### Make Predictions on new data."
   ]
  },
  {
   "cell_type": "code",
   "execution_count": 68,
   "metadata": {},
   "outputs": [
    {
     "data": {
      "text/plain": [
       "array([['Mazda', '14', '63131', 'Petrol', 'Manual']], dtype='<U11')"
      ]
     },
     "execution_count": 68,
     "metadata": {},
     "output_type": "execute_result"
    }
   ],
   "source": [
    "# manufacturer, age, mileage, engine, transmission\n",
    "new_data = [['Mazda', 14, 63131, 'Petrol', 'Manual']]\n",
    "# convert to array\n",
    "new_data = np.array(new_data)\n",
    "new_data"
   ]
  },
  {
   "cell_type": "code",
   "execution_count": 69,
   "metadata": {},
   "outputs": [
    {
     "data": {
      "text/plain": [
       "array([['23', '14', '63131', '3', '1']], dtype='<U11')"
      ]
     },
     "execution_count": 69,
     "metadata": {},
     "output_type": "execute_result"
    }
   ],
   "source": [
    "new_data[:,0] = le_manufacturer.transform(new_data[:,0])\n",
    "new_data[:,3] = le_engine.transform(new_data[:,3])\n",
    "new_data[:,4] = le_transmission.transform(new_data[:,4])\n",
    "new_data"
   ]
  },
  {
   "cell_type": "code",
   "execution_count": 70,
   "metadata": {},
   "outputs": [
    {
     "data": {
      "text/plain": [
       "array([[0.58974359, 0.58333333, 0.36074492, 0.75      , 0.5       ]])"
      ]
     },
     "execution_count": 70,
     "metadata": {},
     "output_type": "execute_result"
    }
   ],
   "source": [
    "new_data = norm.transform(new_data)\n",
    "new_data"
   ]
  },
  {
   "cell_type": "code",
   "execution_count": 71,
   "metadata": {},
   "outputs": [
    {
     "name": "stdout",
     "output_type": "stream",
     "text": [
      "The estimated cost of the car is 5,254 pounds\n"
     ]
    }
   ],
   "source": [
    "# make predictions\n",
    "price = model.predict(new_data)\n",
    "# convert the price from log_price to actual price\n",
    "act_price = np.exp(price) + 1\n",
    "act_price = round(act_price[0])  # round to the neaarest pounds\n",
    "\n",
    "print(f\"The estimated cost of the car is {act_price:,} pounds\")"
   ]
  },
  {
   "cell_type": "code",
   "execution_count": 72,
   "metadata": {},
   "outputs": [],
   "source": [
    "data = {\"model\": model, \"normalization\": norm}\n",
    "with open('../models/regressor.pkl', 'wb') as file:\n",
    "    pickle.dump(data, file)"
   ]
  },
  {
   "cell_type": "code",
   "execution_count": null,
   "metadata": {},
   "outputs": [],
   "source": []
  }
 ],
 "metadata": {
  "kernelspec": {
   "display_name": "Python 3 (ipykernel)",
   "language": "python",
   "name": "python3"
  },
  "language_info": {
   "codemirror_mode": {
    "name": "ipython",
    "version": 3
   },
   "file_extension": ".py",
   "mimetype": "text/x-python",
   "name": "python",
   "nbconvert_exporter": "python",
   "pygments_lexer": "ipython3",
   "version": "3.8.5"
  }
 },
 "nbformat": 4,
 "nbformat_minor": 4
}
