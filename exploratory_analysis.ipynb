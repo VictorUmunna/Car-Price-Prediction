{
 "cells": [
  {
   "cell_type": "code",
   "execution_count": 13,
   "metadata": {},
   "outputs": [],
   "source": [
    "# import libraries\n",
    "import pandas as pd\n",
    "import numpy as np\n",
    "import matplotlib.pyplot as plt\n",
    "import seaborn as sns\n",
    "import warnings\n",
    "warnings.filterwarnings('ignore')"
   ]
  },
  {
   "cell_type": "code",
   "execution_count": 14,
   "metadata": {},
   "outputs": [
    {
     "data": {
      "text/html": [
       "<div>\n",
       "<style scoped>\n",
       "    .dataframe tbody tr th:only-of-type {\n",
       "        vertical-align: middle;\n",
       "    }\n",
       "\n",
       "    .dataframe tbody tr th {\n",
       "        vertical-align: top;\n",
       "    }\n",
       "\n",
       "    .dataframe thead th {\n",
       "        text-align: right;\n",
       "    }\n",
       "</style>\n",
       "<table border=\"1\" class=\"dataframe\">\n",
       "  <thead>\n",
       "    <tr style=\"text-align: right;\">\n",
       "      <th></th>\n",
       "      <th>name</th>\n",
       "      <th>make</th>\n",
       "      <th>year</th>\n",
       "      <th>age</th>\n",
       "      <th>mileage</th>\n",
       "      <th>transmission</th>\n",
       "      <th>colour</th>\n",
       "      <th>price</th>\n",
       "    </tr>\n",
       "  </thead>\n",
       "  <tbody>\n",
       "    <tr>\n",
       "      <th>0</th>\n",
       "      <td>2000 BUICK CENTURY CUSTOM Sedan 4 Door</td>\n",
       "      <td>BUICK</td>\n",
       "      <td>2000</td>\n",
       "      <td>21</td>\n",
       "      <td>1.0</td>\n",
       "      <td>AUTOMATIC</td>\n",
       "      <td>CHAMPAGNE</td>\n",
       "      <td>357</td>\n",
       "    </tr>\n",
       "    <tr>\n",
       "      <th>1</th>\n",
       "      <td>2004 HONDA CIVIC LX</td>\n",
       "      <td>HONDA</td>\n",
       "      <td>2004</td>\n",
       "      <td>17</td>\n",
       "      <td>134095.0</td>\n",
       "      <td>AUTOMATIC</td>\n",
       "      <td>GRAY</td>\n",
       "      <td>850</td>\n",
       "    </tr>\n",
       "    <tr>\n",
       "      <th>2</th>\n",
       "      <td>1993 FORD MUSTANG LX</td>\n",
       "      <td>FORD</td>\n",
       "      <td>1993</td>\n",
       "      <td>28</td>\n",
       "      <td>99086.0</td>\n",
       "      <td>AUTOMATIC</td>\n",
       "      <td>WHITE</td>\n",
       "      <td>975</td>\n",
       "    </tr>\n",
       "    <tr>\n",
       "      <th>3</th>\n",
       "      <td>1998 HONDA CR-V LX</td>\n",
       "      <td>HONDA</td>\n",
       "      <td>1998</td>\n",
       "      <td>23</td>\n",
       "      <td>194018.0</td>\n",
       "      <td>AUTOMATIC</td>\n",
       "      <td>BLUE</td>\n",
       "      <td>925</td>\n",
       "    </tr>\n",
       "    <tr>\n",
       "      <th>4</th>\n",
       "      <td>1999 CHEVROLET TAHOE K1500 Wagon 4 Door</td>\n",
       "      <td>CHEVROLET</td>\n",
       "      <td>1999</td>\n",
       "      <td>22</td>\n",
       "      <td>264054.0</td>\n",
       "      <td>AUTOMATIC</td>\n",
       "      <td>GRAY</td>\n",
       "      <td>750</td>\n",
       "    </tr>\n",
       "  </tbody>\n",
       "</table>\n",
       "</div>"
      ],
      "text/plain": [
       "                                      name       make  year  age   mileage  \\\n",
       "0   2000 BUICK CENTURY CUSTOM Sedan 4 Door      BUICK  2000   21       1.0   \n",
       "1                      2004 HONDA CIVIC LX      HONDA  2004   17  134095.0   \n",
       "2                     1993 FORD MUSTANG LX       FORD  1993   28   99086.0   \n",
       "3                       1998 HONDA CR-V LX      HONDA  1998   23  194018.0   \n",
       "4  1999 CHEVROLET TAHOE K1500 Wagon 4 Door  CHEVROLET  1999   22  264054.0   \n",
       "\n",
       "  transmission     colour  price  \n",
       "0    AUTOMATIC  CHAMPAGNE    357  \n",
       "1    AUTOMATIC       GRAY    850  \n",
       "2    AUTOMATIC      WHITE    975  \n",
       "3    AUTOMATIC       BLUE    925  \n",
       "4    AUTOMATIC       GRAY    750  "
      ]
     },
     "execution_count": 14,
     "metadata": {},
     "output_type": "execute_result"
    }
   ],
   "source": [
    "# import dataset\n",
    "data = pd.read_csv('cleaned_car_data.csv')\n",
    "data.head()"
   ]
  },
  {
   "cell_type": "markdown",
   "metadata": {},
   "source": [
    "# Data Analysis"
   ]
  },
  {
   "cell_type": "code",
   "execution_count": 15,
   "metadata": {},
   "outputs": [
    {
     "data": {
      "text/html": [
       "<div>\n",
       "<style scoped>\n",
       "    .dataframe tbody tr th:only-of-type {\n",
       "        vertical-align: middle;\n",
       "    }\n",
       "\n",
       "    .dataframe tbody tr th {\n",
       "        vertical-align: top;\n",
       "    }\n",
       "\n",
       "    .dataframe thead th {\n",
       "        text-align: right;\n",
       "    }\n",
       "</style>\n",
       "<table border=\"1\" class=\"dataframe\">\n",
       "  <thead>\n",
       "    <tr style=\"text-align: right;\">\n",
       "      <th></th>\n",
       "      <th>name</th>\n",
       "      <th>make</th>\n",
       "      <th>year</th>\n",
       "      <th>age</th>\n",
       "      <th>mileage</th>\n",
       "      <th>transmission</th>\n",
       "      <th>colour</th>\n",
       "      <th>price</th>\n",
       "    </tr>\n",
       "  </thead>\n",
       "  <tbody>\n",
       "    <tr>\n",
       "      <th>5</th>\n",
       "      <td>2004 HONDA CIVIC EX</td>\n",
       "      <td>HONDA</td>\n",
       "      <td>2004</td>\n",
       "      <td>17</td>\n",
       "      <td>0.0</td>\n",
       "      <td>AUTOMATIC</td>\n",
       "      <td>GRAY</td>\n",
       "      <td>1000</td>\n",
       "    </tr>\n",
       "    <tr>\n",
       "      <th>6</th>\n",
       "      <td>2009 DODGE JOURNEY SE Wagon 4 Door</td>\n",
       "      <td>DODGE</td>\n",
       "      <td>2009</td>\n",
       "      <td>12</td>\n",
       "      <td>216676.0</td>\n",
       "      <td>AUTOMATIC</td>\n",
       "      <td>GREEN</td>\n",
       "      <td>1000</td>\n",
       "    </tr>\n",
       "    <tr>\n",
       "      <th>11</th>\n",
       "      <td>2008 HONDA ACCORD EXL</td>\n",
       "      <td>HONDA</td>\n",
       "      <td>2008</td>\n",
       "      <td>13</td>\n",
       "      <td>265938.0</td>\n",
       "      <td>AUTOMATIC</td>\n",
       "      <td>GRAY</td>\n",
       "      <td>1000</td>\n",
       "    </tr>\n",
       "    <tr>\n",
       "      <th>12</th>\n",
       "      <td>1999 FORD EXPLORER</td>\n",
       "      <td>FORD</td>\n",
       "      <td>1999</td>\n",
       "      <td>22</td>\n",
       "      <td>139990.0</td>\n",
       "      <td>AUTOMATIC</td>\n",
       "      <td>RED</td>\n",
       "      <td>1000</td>\n",
       "    </tr>\n",
       "    <tr>\n",
       "      <th>14</th>\n",
       "      <td>2010 DODGE CALIBER SX</td>\n",
       "      <td>DODGE</td>\n",
       "      <td>2010</td>\n",
       "      <td>11</td>\n",
       "      <td>176531.0</td>\n",
       "      <td>AUTOMATIC</td>\n",
       "      <td>BLACK</td>\n",
       "      <td>1000</td>\n",
       "    </tr>\n",
       "  </tbody>\n",
       "</table>\n",
       "</div>"
      ],
      "text/plain": [
       "                                  name   make  year  age   mileage  \\\n",
       "5                  2004 HONDA CIVIC EX  HONDA  2004   17       0.0   \n",
       "6   2009 DODGE JOURNEY SE Wagon 4 Door  DODGE  2009   12  216676.0   \n",
       "11               2008 HONDA ACCORD EXL  HONDA  2008   13  265938.0   \n",
       "12                  1999 FORD EXPLORER   FORD  1999   22  139990.0   \n",
       "14               2010 DODGE CALIBER SX  DODGE  2010   11  176531.0   \n",
       "\n",
       "   transmission colour  price  \n",
       "5     AUTOMATIC   GRAY   1000  \n",
       "6     AUTOMATIC  GREEN   1000  \n",
       "11    AUTOMATIC   GRAY   1000  \n",
       "12    AUTOMATIC    RED   1000  \n",
       "14    AUTOMATIC  BLACK   1000  "
      ]
     },
     "execution_count": 15,
     "metadata": {},
     "output_type": "execute_result"
    }
   ],
   "source": [
    "#the most expensive cars in the collection\n",
    "data.nlargest(5, 'price')"
   ]
  },
  {
   "cell_type": "code",
   "execution_count": 16,
   "metadata": {},
   "outputs": [
    {
     "data": {
      "text/html": [
       "<div>\n",
       "<style scoped>\n",
       "    .dataframe tbody tr th:only-of-type {\n",
       "        vertical-align: middle;\n",
       "    }\n",
       "\n",
       "    .dataframe tbody tr th {\n",
       "        vertical-align: top;\n",
       "    }\n",
       "\n",
       "    .dataframe thead th {\n",
       "        text-align: right;\n",
       "    }\n",
       "</style>\n",
       "<table border=\"1\" class=\"dataframe\">\n",
       "  <thead>\n",
       "    <tr style=\"text-align: right;\">\n",
       "      <th></th>\n",
       "      <th>name</th>\n",
       "      <th>make</th>\n",
       "      <th>year</th>\n",
       "      <th>age</th>\n",
       "      <th>mileage</th>\n",
       "      <th>transmission</th>\n",
       "      <th>colour</th>\n",
       "      <th>price</th>\n",
       "    </tr>\n",
       "  </thead>\n",
       "  <tbody>\n",
       "    <tr>\n",
       "      <th>600</th>\n",
       "      <td>1989 BUICK REATTA Coupe</td>\n",
       "      <td>BUICK</td>\n",
       "      <td>1989</td>\n",
       "      <td>32</td>\n",
       "      <td>415811.0</td>\n",
       "      <td>AUTOMATIC</td>\n",
       "      <td>BLACK</td>\n",
       "      <td>850</td>\n",
       "    </tr>\n",
       "    <tr>\n",
       "      <th>19</th>\n",
       "      <td>2005 HONDA ACCORD LX</td>\n",
       "      <td>HONDA</td>\n",
       "      <td>2005</td>\n",
       "      <td>16</td>\n",
       "      <td>354898.0</td>\n",
       "      <td>AUTOMATIC</td>\n",
       "      <td>BLUE</td>\n",
       "      <td>599</td>\n",
       "    </tr>\n",
       "    <tr>\n",
       "      <th>298</th>\n",
       "      <td>2002 GMC YUKON</td>\n",
       "      <td>GMC</td>\n",
       "      <td>2002</td>\n",
       "      <td>19</td>\n",
       "      <td>348787.0</td>\n",
       "      <td>AUTOMATIC</td>\n",
       "      <td>WHITE</td>\n",
       "      <td>1000</td>\n",
       "    </tr>\n",
       "    <tr>\n",
       "      <th>251</th>\n",
       "      <td>1995 CHEVROLET K1500 Club Cab Pickup</td>\n",
       "      <td>CHEVROLET</td>\n",
       "      <td>1995</td>\n",
       "      <td>26</td>\n",
       "      <td>348540.0</td>\n",
       "      <td>AUTOMATIC</td>\n",
       "      <td>BLUE</td>\n",
       "      <td>800</td>\n",
       "    </tr>\n",
       "    <tr>\n",
       "      <th>311</th>\n",
       "      <td>1995 CHEVROLET K1500 Club Cab Pickup</td>\n",
       "      <td>CHEVROLET</td>\n",
       "      <td>1995</td>\n",
       "      <td>26</td>\n",
       "      <td>348540.0</td>\n",
       "      <td>AUTOMATIC</td>\n",
       "      <td>BLUE</td>\n",
       "      <td>775</td>\n",
       "    </tr>\n",
       "  </tbody>\n",
       "</table>\n",
       "</div>"
      ],
      "text/plain": [
       "                                     name       make  year  age   mileage  \\\n",
       "600               1989 BUICK REATTA Coupe      BUICK  1989   32  415811.0   \n",
       "19                   2005 HONDA ACCORD LX      HONDA  2005   16  354898.0   \n",
       "298                        2002 GMC YUKON        GMC  2002   19  348787.0   \n",
       "251  1995 CHEVROLET K1500 Club Cab Pickup  CHEVROLET  1995   26  348540.0   \n",
       "311  1995 CHEVROLET K1500 Club Cab Pickup  CHEVROLET  1995   26  348540.0   \n",
       "\n",
       "    transmission colour  price  \n",
       "600    AUTOMATIC  BLACK    850  \n",
       "19     AUTOMATIC   BLUE    599  \n",
       "298    AUTOMATIC  WHITE   1000  \n",
       "251    AUTOMATIC   BLUE    800  \n",
       "311    AUTOMATIC   BLUE    775  "
      ]
     },
     "execution_count": 16,
     "metadata": {},
     "output_type": "execute_result"
    }
   ],
   "source": [
    "#cars witht the most miles in the collection\n",
    "data.nlargest(5, 'mileage')"
   ]
  },
  {
   "cell_type": "code",
   "execution_count": 18,
   "metadata": {},
   "outputs": [
    {
     "data": {
      "text/html": [
       "<div>\n",
       "<style scoped>\n",
       "    .dataframe tbody tr th:only-of-type {\n",
       "        vertical-align: middle;\n",
       "    }\n",
       "\n",
       "    .dataframe tbody tr th {\n",
       "        vertical-align: top;\n",
       "    }\n",
       "\n",
       "    .dataframe thead th {\n",
       "        text-align: right;\n",
       "    }\n",
       "</style>\n",
       "<table border=\"1\" class=\"dataframe\">\n",
       "  <thead>\n",
       "    <tr style=\"text-align: right;\">\n",
       "      <th></th>\n",
       "      <th>name</th>\n",
       "      <th>make</th>\n",
       "      <th>year</th>\n",
       "      <th>age</th>\n",
       "      <th>mileage</th>\n",
       "      <th>transmission</th>\n",
       "      <th>colour</th>\n",
       "      <th>price</th>\n",
       "    </tr>\n",
       "  </thead>\n",
       "  <tbody>\n",
       "    <tr>\n",
       "      <th>47</th>\n",
       "      <td>1979 CHEVROLET C10 D</td>\n",
       "      <td>CHEVROLET</td>\n",
       "      <td>1979</td>\n",
       "      <td>42</td>\n",
       "      <td>85061.0</td>\n",
       "      <td>AUTOMATIC</td>\n",
       "      <td>WHITE</td>\n",
       "      <td>900</td>\n",
       "    </tr>\n",
       "    <tr>\n",
       "      <th>135</th>\n",
       "      <td>1979 CHEVROLET C10 D</td>\n",
       "      <td>CHEVROLET</td>\n",
       "      <td>1979</td>\n",
       "      <td>42</td>\n",
       "      <td>85061.0</td>\n",
       "      <td>AUTOMATIC</td>\n",
       "      <td>WHITE</td>\n",
       "      <td>550</td>\n",
       "    </tr>\n",
       "    <tr>\n",
       "      <th>179</th>\n",
       "      <td>1979 CHEVROLET C10 D</td>\n",
       "      <td>CHEVROLET</td>\n",
       "      <td>1979</td>\n",
       "      <td>42</td>\n",
       "      <td>85061.0</td>\n",
       "      <td>AUTOMATIC</td>\n",
       "      <td>WHITE</td>\n",
       "      <td>1000</td>\n",
       "    </tr>\n",
       "    <tr>\n",
       "      <th>560</th>\n",
       "      <td>1982 Chevrolet S Truck S10 D Pickup 2 Door</td>\n",
       "      <td>CHEVROLET</td>\n",
       "      <td>1982</td>\n",
       "      <td>39</td>\n",
       "      <td>179818.0</td>\n",
       "      <td>AUTOMATIC</td>\n",
       "      <td>BLACK</td>\n",
       "      <td>700</td>\n",
       "    </tr>\n",
       "    <tr>\n",
       "      <th>809</th>\n",
       "      <td>1982 Chevrolet S Truck S10 D Pickup 2 Door</td>\n",
       "      <td>CHEVROLET</td>\n",
       "      <td>1982</td>\n",
       "      <td>39</td>\n",
       "      <td>179818.0</td>\n",
       "      <td>AUTOMATIC</td>\n",
       "      <td>BLACK</td>\n",
       "      <td>850</td>\n",
       "    </tr>\n",
       "  </tbody>\n",
       "</table>\n",
       "</div>"
      ],
      "text/plain": [
       "                                           name       make  year  age  \\\n",
       "47                        1979 CHEVROLET C10 D   CHEVROLET  1979   42   \n",
       "135                       1979 CHEVROLET C10 D   CHEVROLET  1979   42   \n",
       "179                       1979 CHEVROLET C10 D   CHEVROLET  1979   42   \n",
       "560  1982 Chevrolet S Truck S10 D Pickup 2 Door  CHEVROLET  1982   39   \n",
       "809  1982 Chevrolet S Truck S10 D Pickup 2 Door  CHEVROLET  1982   39   \n",
       "\n",
       "      mileage transmission colour  price  \n",
       "47    85061.0    AUTOMATIC  WHITE    900  \n",
       "135   85061.0    AUTOMATIC  WHITE    550  \n",
       "179   85061.0    AUTOMATIC  WHITE   1000  \n",
       "560  179818.0    AUTOMATIC  BLACK    700  \n",
       "809  179818.0    AUTOMATIC  BLACK    850  "
      ]
     },
     "execution_count": 18,
     "metadata": {},
     "output_type": "execute_result"
    }
   ],
   "source": [
    "#oldest cars in the collection\n",
    "data.nlargest(5, 'age')"
   ]
  },
  {
   "cell_type": "code",
   "execution_count": 22,
   "metadata": {},
   "outputs": [],
   "source": [
    "#drop the year column\n",
    "data = data.drop('year', axis=1)"
   ]
  },
  {
   "cell_type": "code",
   "execution_count": 33,
   "metadata": {},
   "outputs": [
    {
     "data": {
      "text/html": [
       "<div>\n",
       "<style scoped>\n",
       "    .dataframe tbody tr th:only-of-type {\n",
       "        vertical-align: middle;\n",
       "    }\n",
       "\n",
       "    .dataframe tbody tr th {\n",
       "        vertical-align: top;\n",
       "    }\n",
       "\n",
       "    .dataframe thead th {\n",
       "        text-align: right;\n",
       "    }\n",
       "</style>\n",
       "<table border=\"1\" class=\"dataframe\">\n",
       "  <thead>\n",
       "    <tr style=\"text-align: right;\">\n",
       "      <th></th>\n",
       "      <th>name</th>\n",
       "      <th>make</th>\n",
       "      <th>age</th>\n",
       "      <th>mileage</th>\n",
       "      <th>transmission</th>\n",
       "      <th>colour</th>\n",
       "      <th>price</th>\n",
       "    </tr>\n",
       "  </thead>\n",
       "  <tbody>\n",
       "    <tr>\n",
       "      <th>0</th>\n",
       "      <td>2000 BUICK CENTURY CUSTOM Sedan 4 Door</td>\n",
       "      <td>BUICK</td>\n",
       "      <td>21</td>\n",
       "      <td>1.0</td>\n",
       "      <td>AUTOMATIC</td>\n",
       "      <td>CHAMPAGNE</td>\n",
       "      <td>357</td>\n",
       "    </tr>\n",
       "    <tr>\n",
       "      <th>1</th>\n",
       "      <td>2004 HONDA CIVIC LX</td>\n",
       "      <td>HONDA</td>\n",
       "      <td>17</td>\n",
       "      <td>134095.0</td>\n",
       "      <td>AUTOMATIC</td>\n",
       "      <td>GRAY</td>\n",
       "      <td>850</td>\n",
       "    </tr>\n",
       "    <tr>\n",
       "      <th>2</th>\n",
       "      <td>1993 FORD MUSTANG LX</td>\n",
       "      <td>FORD</td>\n",
       "      <td>28</td>\n",
       "      <td>99086.0</td>\n",
       "      <td>AUTOMATIC</td>\n",
       "      <td>WHITE</td>\n",
       "      <td>975</td>\n",
       "    </tr>\n",
       "    <tr>\n",
       "      <th>3</th>\n",
       "      <td>1998 HONDA CR-V LX</td>\n",
       "      <td>HONDA</td>\n",
       "      <td>23</td>\n",
       "      <td>194018.0</td>\n",
       "      <td>AUTOMATIC</td>\n",
       "      <td>BLUE</td>\n",
       "      <td>925</td>\n",
       "    </tr>\n",
       "    <tr>\n",
       "      <th>4</th>\n",
       "      <td>1999 CHEVROLET TAHOE K1500 Wagon 4 Door</td>\n",
       "      <td>CHEVROLET</td>\n",
       "      <td>22</td>\n",
       "      <td>264054.0</td>\n",
       "      <td>AUTOMATIC</td>\n",
       "      <td>GRAY</td>\n",
       "      <td>750</td>\n",
       "    </tr>\n",
       "  </tbody>\n",
       "</table>\n",
       "</div>"
      ],
      "text/plain": [
       "                                      name       make  age   mileage  \\\n",
       "0   2000 BUICK CENTURY CUSTOM Sedan 4 Door      BUICK   21       1.0   \n",
       "1                      2004 HONDA CIVIC LX      HONDA   17  134095.0   \n",
       "2                     1993 FORD MUSTANG LX       FORD   28   99086.0   \n",
       "3                       1998 HONDA CR-V LX      HONDA   23  194018.0   \n",
       "4  1999 CHEVROLET TAHOE K1500 Wagon 4 Door  CHEVROLET   22  264054.0   \n",
       "\n",
       "  transmission     colour  price  \n",
       "0    AUTOMATIC  CHAMPAGNE    357  \n",
       "1    AUTOMATIC       GRAY    850  \n",
       "2    AUTOMATIC      WHITE    975  \n",
       "3    AUTOMATIC       BLUE    925  \n",
       "4    AUTOMATIC       GRAY    750  "
      ]
     },
     "execution_count": 33,
     "metadata": {},
     "output_type": "execute_result"
    }
   ],
   "source": [
    "data.head()"
   ]
  },
  {
   "cell_type": "code",
   "execution_count": 23,
   "metadata": {},
   "outputs": [
    {
     "data": {
      "text/html": [
       "<div>\n",
       "<style scoped>\n",
       "    .dataframe tbody tr th:only-of-type {\n",
       "        vertical-align: middle;\n",
       "    }\n",
       "\n",
       "    .dataframe tbody tr th {\n",
       "        vertical-align: top;\n",
       "    }\n",
       "\n",
       "    .dataframe thead th {\n",
       "        text-align: right;\n",
       "    }\n",
       "</style>\n",
       "<table border=\"1\" class=\"dataframe\">\n",
       "  <thead>\n",
       "    <tr style=\"text-align: right;\">\n",
       "      <th></th>\n",
       "      <th>age</th>\n",
       "      <th>mileage</th>\n",
       "      <th>price</th>\n",
       "    </tr>\n",
       "  </thead>\n",
       "  <tbody>\n",
       "    <tr>\n",
       "      <th>age</th>\n",
       "      <td>1.000000</td>\n",
       "      <td>0.124639</td>\n",
       "      <td>-0.049808</td>\n",
       "    </tr>\n",
       "    <tr>\n",
       "      <th>mileage</th>\n",
       "      <td>0.124639</td>\n",
       "      <td>1.000000</td>\n",
       "      <td>-0.016489</td>\n",
       "    </tr>\n",
       "    <tr>\n",
       "      <th>price</th>\n",
       "      <td>-0.049808</td>\n",
       "      <td>-0.016489</td>\n",
       "      <td>1.000000</td>\n",
       "    </tr>\n",
       "  </tbody>\n",
       "</table>\n",
       "</div>"
      ],
      "text/plain": [
       "              age   mileage     price\n",
       "age      1.000000  0.124639 -0.049808\n",
       "mileage  0.124639  1.000000 -0.016489\n",
       "price   -0.049808 -0.016489  1.000000"
      ]
     },
     "execution_count": 23,
     "metadata": {},
     "output_type": "execute_result"
    }
   ],
   "source": [
    "corr = data.corr()\n",
    "corr"
   ]
  },
  {
   "cell_type": "code",
   "execution_count": 42,
   "metadata": {},
   "outputs": [
    {
     "data": {
      "image/png": "[encoded data removed]",
      "text/plain": [
       "<Figure size 432x288 with 2 Axes>"
      ]
     },
     "metadata": {
      "needs_background": "light"
     },
     "output_type": "display_data"
    }
   ],
   "source": [
    "# heat map\n",
    "sns.heatmap(corr, \n",
    "        xticklabels=corr.columns,\n",
    "        yticklabels=corr.columns, annot=True);"
   ]
  },
  {
   "cell_type": "code",
   "execution_count": 28,
   "metadata": {},
   "outputs": [
    {
     "data": {
      "image/png": "[encoded data removed]",
      "text/plain": [
       "<Figure size 720x720 with 1 Axes>"
      ]
     },
     "metadata": {
      "needs_background": "light"
     },
     "output_type": "display_data"
    }
   ],
   "source": [
    "# count of cars by car make\n",
    "fig = plt.figure(figsize=(10, 10))\n",
    "sns.countplot(data.make);\n",
    "plt.title(\"Distribution of car make\")\n",
    "plt.xticks(rotation=90);"
   ]
  },
  {
   "cell_type": "code",
   "execution_count": 26,
   "metadata": {},
   "outputs": [
    {
     "data": {
      "text/plain": [
       "CHEVROLET        236\n",
       "FORD             126\n",
       "HONDA            109\n",
       "DODGE             81\n",
       "NISSAN            46\n",
       "CHRYSLER          43\n",
       "JEEP              38\n",
       "CADILLAC          33\n",
       "TOYOTA            28\n",
       "BMW               27\n",
       "HYUNDAI           25\n",
       "BUICK             20\n",
       "ACURA             14\n",
       "AUDI              13\n",
       "KIA               10\n",
       "MITSUBISHI        10\n",
       "GMC                9\n",
       "SUZUKI             7\n",
       "LINCOLN            7\n",
       "MAZDA              5\n",
       "DATSUN             4\n",
       "MERCURY            3\n",
       "MERCEDES-BENZ      3\n",
       "LEXUS              3\n",
       "SUBARU             2\n",
       "INFINITI           2\n",
       "LAND-ROVER         2\n",
       "OLDSMOBILE         1\n",
       "SATURN             1\n",
       "PONTIAC            1\n",
       "Name: make, dtype: int64"
      ]
     },
     "execution_count": 26,
     "metadata": {},
     "output_type": "execute_result"
    }
   ],
   "source": [
    "# Categorical variable \n",
    "data.make.value_counts()"
   ]
  },
  {
   "cell_type": "code",
   "execution_count": 29,
   "metadata": {},
   "outputs": [
    {
     "data": {
      "image/png": "[encoded data removed]",
      "text/plain": [
       "<Figure size 576x360 with 1 Axes>"
      ]
     },
     "metadata": {
      "needs_background": "light"
     },
     "output_type": "display_data"
    }
   ],
   "source": [
    "#count of cars by transmission\n",
    "fig = plt.figure(figsize=(8, 5))\n",
    "sns.countplot(data.transmission);\n",
    "plt.title(\"Distribution of car transmission\")\n",
    "plt.xticks(rotation=90);"
   ]
  },
  {
   "cell_type": "code",
   "execution_count": 30,
   "metadata": {},
   "outputs": [
    {
     "data": {
      "text/plain": [
       "AUTOMATIC    874\n",
       "MANUAL        35\n",
       "Name: transmission, dtype: int64"
      ]
     },
     "execution_count": 30,
     "metadata": {},
     "output_type": "execute_result"
    }
   ],
   "source": [
    "# Categorical variable \n",
    "data.transmission.value_counts()"
   ]
  },
  {
   "cell_type": "code",
   "execution_count": 31,
   "metadata": {},
   "outputs": [
    {
     "data": {
      "text/html": [
       "<div>\n",
       "<style scoped>\n",
       "    .dataframe tbody tr th:only-of-type {\n",
       "        vertical-align: middle;\n",
       "    }\n",
       "\n",
       "    .dataframe tbody tr th {\n",
       "        vertical-align: top;\n",
       "    }\n",
       "\n",
       "    .dataframe thead th {\n",
       "        text-align: right;\n",
       "    }\n",
       "</style>\n",
       "<table border=\"1\" class=\"dataframe\">\n",
       "  <thead>\n",
       "    <tr style=\"text-align: right;\">\n",
       "      <th></th>\n",
       "      <th>price</th>\n",
       "    </tr>\n",
       "    <tr>\n",
       "      <th>make</th>\n",
       "      <th></th>\n",
       "    </tr>\n",
       "  </thead>\n",
       "  <tbody>\n",
       "    <tr>\n",
       "      <th>ACURA</th>\n",
       "      <td>801.714286</td>\n",
       "    </tr>\n",
       "    <tr>\n",
       "      <th>AUDI</th>\n",
       "      <td>685.153846</td>\n",
       "    </tr>\n",
       "    <tr>\n",
       "      <th>BMW</th>\n",
       "      <td>805.962963</td>\n",
       "    </tr>\n",
       "    <tr>\n",
       "      <th>BUICK</th>\n",
       "      <td>647.850000</td>\n",
       "    </tr>\n",
       "    <tr>\n",
       "      <th>CADILLAC</th>\n",
       "      <td>739.090909</td>\n",
       "    </tr>\n",
       "    <tr>\n",
       "      <th>CHEVROLET</th>\n",
       "      <td>762.330508</td>\n",
       "    </tr>\n",
       "    <tr>\n",
       "      <th>CHRYSLER</th>\n",
       "      <td>720.325581</td>\n",
       "    </tr>\n",
       "    <tr>\n",
       "      <th>DATSUN</th>\n",
       "      <td>750.000000</td>\n",
       "    </tr>\n",
       "    <tr>\n",
       "      <th>DODGE</th>\n",
       "      <td>802.160494</td>\n",
       "    </tr>\n",
       "    <tr>\n",
       "      <th>FORD</th>\n",
       "      <td>774.507937</td>\n",
       "    </tr>\n",
       "    <tr>\n",
       "      <th>GMC</th>\n",
       "      <td>772.222222</td>\n",
       "    </tr>\n",
       "    <tr>\n",
       "      <th>HONDA</th>\n",
       "      <td>744.706422</td>\n",
       "    </tr>\n",
       "    <tr>\n",
       "      <th>HYUNDAI</th>\n",
       "      <td>801.000000</td>\n",
       "    </tr>\n",
       "    <tr>\n",
       "      <th>INFINITI</th>\n",
       "      <td>687.500000</td>\n",
       "    </tr>\n",
       "    <tr>\n",
       "      <th>JEEP</th>\n",
       "      <td>774.736842</td>\n",
       "    </tr>\n",
       "    <tr>\n",
       "      <th>KIA</th>\n",
       "      <td>770.000000</td>\n",
       "    </tr>\n",
       "    <tr>\n",
       "      <th>LAND-ROVER</th>\n",
       "      <td>612.500000</td>\n",
       "    </tr>\n",
       "    <tr>\n",
       "      <th>LEXUS</th>\n",
       "      <td>883.333333</td>\n",
       "    </tr>\n",
       "    <tr>\n",
       "      <th>LINCOLN</th>\n",
       "      <td>849.857143</td>\n",
       "    </tr>\n",
       "    <tr>\n",
       "      <th>MAZDA</th>\n",
       "      <td>700.000000</td>\n",
       "    </tr>\n",
       "    <tr>\n",
       "      <th>MERCEDES-BENZ</th>\n",
       "      <td>616.666667</td>\n",
       "    </tr>\n",
       "    <tr>\n",
       "      <th>MERCURY</th>\n",
       "      <td>850.000000</td>\n",
       "    </tr>\n",
       "    <tr>\n",
       "      <th>MITSUBISHI</th>\n",
       "      <td>705.000000</td>\n",
       "    </tr>\n",
       "    <tr>\n",
       "      <th>NISSAN</th>\n",
       "      <td>800.000000</td>\n",
       "    </tr>\n",
       "    <tr>\n",
       "      <th>OLDSMOBILE</th>\n",
       "      <td>825.000000</td>\n",
       "    </tr>\n",
       "    <tr>\n",
       "      <th>PONTIAC</th>\n",
       "      <td>625.000000</td>\n",
       "    </tr>\n",
       "    <tr>\n",
       "      <th>SATURN</th>\n",
       "      <td>875.000000</td>\n",
       "    </tr>\n",
       "    <tr>\n",
       "      <th>SUBARU</th>\n",
       "      <td>775.000000</td>\n",
       "    </tr>\n",
       "    <tr>\n",
       "      <th>SUZUKI</th>\n",
       "      <td>742.857143</td>\n",
       "    </tr>\n",
       "    <tr>\n",
       "      <th>TOYOTA</th>\n",
       "      <td>790.178571</td>\n",
       "    </tr>\n",
       "  </tbody>\n",
       "</table>\n",
       "</div>"
      ],
      "text/plain": [
       "                    price\n",
       "make                     \n",
       "ACURA          801.714286\n",
       "AUDI           685.153846\n",
       "BMW            805.962963\n",
       "BUICK          647.850000\n",
       "CADILLAC       739.090909\n",
       "CHEVROLET      762.330508\n",
       "CHRYSLER       720.325581\n",
       "DATSUN         750.000000\n",
       "DODGE          802.160494\n",
       "FORD           774.507937\n",
       "GMC            772.222222\n",
       "HONDA          744.706422\n",
       "HYUNDAI        801.000000\n",
       "INFINITI       687.500000\n",
       "JEEP           774.736842\n",
       "KIA            770.000000\n",
       "LAND-ROVER     612.500000\n",
       "LEXUS          883.333333\n",
       "LINCOLN        849.857143\n",
       "MAZDA          700.000000\n",
       "MERCEDES-BENZ  616.666667\n",
       "MERCURY        850.000000\n",
       "MITSUBISHI     705.000000\n",
       "NISSAN         800.000000\n",
       "OLDSMOBILE     825.000000\n",
       "PONTIAC        625.000000\n",
       "SATURN         875.000000\n",
       "SUBARU         775.000000\n",
       "SUZUKI         742.857143\n",
       "TOYOTA         790.178571"
      ]
     },
     "execution_count": 31,
     "metadata": {},
     "output_type": "execute_result"
    }
   ],
   "source": [
    "# create a pivot table to find the average price per car make\n",
    "data.pivot_table(values='price', index='make', aggfunc='mean')"
   ]
  },
  {
   "cell_type": "code",
   "execution_count": 32,
   "metadata": {
    "scrolled": false
   },
   "outputs": [
    {
     "data": {
      "text/plain": [
       "<AxesSubplot:xlabel='age', ylabel='price'>"
      ]
     },
     "execution_count": 32,
     "metadata": {},
     "output_type": "execute_result"
    },
    {
     "data": {
      "image/png": "[encoded data removed]",
      "text/plain": [
       "<Figure size 432x288 with 1 Axes>"
      ]
     },
     "metadata": {
      "needs_background": "light"
     },
     "output_type": "display_data"
    }
   ],
   "source": [
    "sns.scatterplot(x='age', y='price', data=data)"
   ]
  },
  {
   "cell_type": "markdown",
   "metadata": {},
   "source": [
    "There is zero correlation between the age of the car and price of car"
   ]
  },
  {
   "cell_type": "code",
   "execution_count": 34,
   "metadata": {
    "collapsed": true
   },
   "outputs": [
    {
     "data": {
      "text/plain": [
       "<AxesSubplot:xlabel='mileage', ylabel='price'>"
      ]
     },
     "execution_count": 34,
     "metadata": {},
     "output_type": "execute_result"
    },
    {
     "data": {
      "image/png": "[encoded data removed]",
      "text/plain": [
       "<Figure size 432x288 with 1 Axes>"
      ]
     },
     "metadata": {
      "needs_background": "light"
     },
     "output_type": "display_data"
    }
   ],
   "source": [
    "sns.scatterplot(x='mileage', y='price', data=data)"
   ]
  },
  {
   "cell_type": "markdown",
   "metadata": {},
   "source": [
    "There is zero correlation between miles driven and price of car"
   ]
  },
  {
   "cell_type": "code",
   "execution_count": 37,
   "metadata": {
    "scrolled": false
   },
   "outputs": [
    {
     "data": {
      "text/plain": [
       "<AxesSubplot:xlabel='age', ylabel='mileage'>"
      ]
     },
     "execution_count": 37,
     "metadata": {},
     "output_type": "execute_result"
    },
    {
     "data": {
      "image/png": "[encoded data removed]",
      "text/plain": [
       "<Figure size 432x288 with 1 Axes>"
      ]
     },
     "metadata": {
      "needs_background": "light"
     },
     "output_type": "display_data"
    }
   ],
   "source": [
    "sns.scatterplot(x='age', y='mileage', data=data)"
   ]
  },
  {
   "cell_type": "markdown",
   "metadata": {},
   "source": [
    "This shows a positive correlation. As the age increases, the number of miles driven increases too"
   ]
  },
  {
   "cell_type": "code",
   "execution_count": 41,
   "metadata": {},
   "outputs": [
    {
     "data": {
      "text/plain": [
       "<AxesSubplot:xlabel='age', ylabel='price'>"
      ]
     },
     "execution_count": 41,
     "metadata": {},
     "output_type": "execute_result"
    },
    {
     "data": {
      "image/png": "[encoded data removed]",
      "text/plain": [
       "<Figure size 432x288 with 1 Axes>"
      ]
     },
     "metadata": {
      "needs_background": "light"
     },
     "output_type": "display_data"
    }
   ],
   "source": [
    "sns.boxplot(x='age', y=\"price\", data=data)"
   ]
  },
  {
   "cell_type": "code",
   "execution_count": 38,
   "metadata": {},
   "outputs": [],
   "source": [
    "from wordcloud import WordCloud, STOPWORDS"
   ]
  },
  {
   "cell_type": "code",
   "execution_count": 39,
   "metadata": {},
   "outputs": [
    {
     "data": {
      "image/png": "[encoded data removed]",
      "text/plain": [
       "<Figure size 576x288 with 1 Axes>"
      ]
     },
     "metadata": {
      "needs_background": "light"
     },
     "output_type": "display_data"
    }
   ],
   "source": [
    "plt.subplots(figsize=(8,4))\n",
    "wordcloud = WordCloud(background_color='White',width=1920,height=1080).generate(\" \".join(data['make']))\n",
    "plt.imshow(wordcloud, interpolation='bilinear')\n",
    "plt.axis('off')\n",
    "#plt.savefig('cast.png')\n",
    "plt.show()"
   ]
  },
  {
   "cell_type": "code",
   "execution_count": null,
   "metadata": {},
   "outputs": [],
   "source": []
  }
 ],
 "metadata": {
  "kernelspec": {
   "display_name": "Python 3",
   "language": "python",
   "name": "python3"
  },
  "language_info": {
   "codemirror_mode": {
    "name": "ipython",
    "version": 3
   },
   "file_extension": ".py",
   "mimetype": "text/x-python",
   "name": "python",
   "nbconvert_exporter": "python",
   "pygments_lexer": "ipython3",
   "version": "3.8.5"
  }
 },
 "nbformat": 4,
 "nbformat_minor": 4
}
