{
 "cells": [
  {
   "cell_type": "code",
   "execution_count": 16,
   "metadata": {},
   "outputs": [],
   "source": [
    "# import libraries\n",
    "import pandas as pd\n",
    "import numpy as np\n",
    "import matplotlib.pyplot as plt\n",
    "import seaborn as sns\n",
    "import warnings\n",
    "warnings.filterwarnings('ignore')"
   ]
  },
  {
   "cell_type": "code",
   "execution_count": 17,
   "metadata": {
    "scrolled": true
   },
   "outputs": [
    {
     "data": {
      "text/html": [
       "<div>\n",
       "<style scoped>\n",
       "    .dataframe tbody tr th:only-of-type {\n",
       "        vertical-align: middle;\n",
       "    }\n",
       "\n",
       "    .dataframe tbody tr th {\n",
       "        vertical-align: top;\n",
       "    }\n",
       "\n",
       "    .dataframe thead th {\n",
       "        text-align: right;\n",
       "    }\n",
       "</style>\n",
       "<table border=\"1\" class=\"dataframe\">\n",
       "  <thead>\n",
       "    <tr style=\"text-align: right;\">\n",
       "      <th></th>\n",
       "      <th>name</th>\n",
       "      <th>make</th>\n",
       "      <th>year</th>\n",
       "      <th>mileage</th>\n",
       "      <th>transmission</th>\n",
       "      <th>colour</th>\n",
       "      <th>price</th>\n",
       "    </tr>\n",
       "  </thead>\n",
       "  <tbody>\n",
       "    <tr>\n",
       "      <th>0</th>\n",
       "      <td>2000 BUICK CENTURY CUSTOM Sedan 4 Door</td>\n",
       "      <td>BUICK</td>\n",
       "      <td>2000</td>\n",
       "      <td>1.0</td>\n",
       "      <td>AUTOMATIC</td>\n",
       "      <td>CHAMPAGNE</td>\n",
       "      <td>357</td>\n",
       "    </tr>\n",
       "    <tr>\n",
       "      <th>1</th>\n",
       "      <td>2004 HONDA CIVIC LX</td>\n",
       "      <td>HONDA</td>\n",
       "      <td>2004</td>\n",
       "      <td>134095.0</td>\n",
       "      <td>AUTOMATIC</td>\n",
       "      <td>GRAY</td>\n",
       "      <td>850</td>\n",
       "    </tr>\n",
       "    <tr>\n",
       "      <th>2</th>\n",
       "      <td>1993 FORD MUSTANG LX</td>\n",
       "      <td>FORD</td>\n",
       "      <td>1993</td>\n",
       "      <td>99086.0</td>\n",
       "      <td>AUTOMATIC</td>\n",
       "      <td>WHITE</td>\n",
       "      <td>975</td>\n",
       "    </tr>\n",
       "    <tr>\n",
       "      <th>3</th>\n",
       "      <td>1998 HONDA CR-V LX</td>\n",
       "      <td>HONDA</td>\n",
       "      <td>1998</td>\n",
       "      <td>194018.0</td>\n",
       "      <td>AUTOMATIC</td>\n",
       "      <td>BLUE</td>\n",
       "      <td>925</td>\n",
       "    </tr>\n",
       "    <tr>\n",
       "      <th>4</th>\n",
       "      <td>1999 CHEVROLET TAHOE K1500 Wagon 4 Door</td>\n",
       "      <td>CHEVROLET</td>\n",
       "      <td>1999</td>\n",
       "      <td>264054.0</td>\n",
       "      <td>AUTOMATIC</td>\n",
       "      <td>GRAY</td>\n",
       "      <td>750</td>\n",
       "    </tr>\n",
       "  </tbody>\n",
       "</table>\n",
       "</div>"
      ],
      "text/plain": [
       "                                      name       make  year   mileage  \\\n",
       "0   2000 BUICK CENTURY CUSTOM Sedan 4 Door      BUICK  2000       1.0   \n",
       "1                      2004 HONDA CIVIC LX      HONDA  2004  134095.0   \n",
       "2                     1993 FORD MUSTANG LX       FORD  1993   99086.0   \n",
       "3                       1998 HONDA CR-V LX      HONDA  1998  194018.0   \n",
       "4  1999 CHEVROLET TAHOE K1500 Wagon 4 Door  CHEVROLET  1999  264054.0   \n",
       "\n",
       "  transmission     colour  price  \n",
       "0    AUTOMATIC  CHAMPAGNE    357  \n",
       "1    AUTOMATIC       GRAY    850  \n",
       "2    AUTOMATIC      WHITE    975  \n",
       "3    AUTOMATIC       BLUE    925  \n",
       "4    AUTOMATIC       GRAY    750  "
      ]
     },
     "execution_count": 17,
     "metadata": {},
     "output_type": "execute_result"
    }
   ],
   "source": [
    "# import dataset\n",
    "data = pd.read_csv('cleaned_car_data.csv')\n",
    "data.head()"
   ]
  },
  {
   "cell_type": "markdown",
   "metadata": {},
   "source": [
    "EDA"
   ]
  },
  {
   "cell_type": "code",
   "execution_count": 18,
   "metadata": {},
   "outputs": [
    {
     "data": {
      "text/html": [
       "<div>\n",
       "<style scoped>\n",
       "    .dataframe tbody tr th:only-of-type {\n",
       "        vertical-align: middle;\n",
       "    }\n",
       "\n",
       "    .dataframe tbody tr th {\n",
       "        vertical-align: top;\n",
       "    }\n",
       "\n",
       "    .dataframe thead th {\n",
       "        text-align: right;\n",
       "    }\n",
       "</style>\n",
       "<table border=\"1\" class=\"dataframe\">\n",
       "  <thead>\n",
       "    <tr style=\"text-align: right;\">\n",
       "      <th></th>\n",
       "      <th>name</th>\n",
       "      <th>make</th>\n",
       "      <th>year</th>\n",
       "      <th>mileage</th>\n",
       "      <th>transmission</th>\n",
       "      <th>colour</th>\n",
       "      <th>price</th>\n",
       "    </tr>\n",
       "  </thead>\n",
       "  <tbody>\n",
       "    <tr>\n",
       "      <th>5</th>\n",
       "      <td>2004 HONDA CIVIC EX</td>\n",
       "      <td>HONDA</td>\n",
       "      <td>2004</td>\n",
       "      <td>0.0</td>\n",
       "      <td>AUTOMATIC</td>\n",
       "      <td>GRAY</td>\n",
       "      <td>1000</td>\n",
       "    </tr>\n",
       "    <tr>\n",
       "      <th>6</th>\n",
       "      <td>2009 DODGE JOURNEY SE Wagon 4 Door</td>\n",
       "      <td>DODGE</td>\n",
       "      <td>2009</td>\n",
       "      <td>216676.0</td>\n",
       "      <td>AUTOMATIC</td>\n",
       "      <td>GREEN</td>\n",
       "      <td>1000</td>\n",
       "    </tr>\n",
       "    <tr>\n",
       "      <th>11</th>\n",
       "      <td>2008 HONDA ACCORD EXL</td>\n",
       "      <td>HONDA</td>\n",
       "      <td>2008</td>\n",
       "      <td>265938.0</td>\n",
       "      <td>AUTOMATIC</td>\n",
       "      <td>GRAY</td>\n",
       "      <td>1000</td>\n",
       "    </tr>\n",
       "    <tr>\n",
       "      <th>12</th>\n",
       "      <td>1999 FORD EXPLORER</td>\n",
       "      <td>FORD</td>\n",
       "      <td>1999</td>\n",
       "      <td>139990.0</td>\n",
       "      <td>AUTOMATIC</td>\n",
       "      <td>RED</td>\n",
       "      <td>1000</td>\n",
       "    </tr>\n",
       "    <tr>\n",
       "      <th>14</th>\n",
       "      <td>2010 DODGE CALIBER SX</td>\n",
       "      <td>DODGE</td>\n",
       "      <td>2010</td>\n",
       "      <td>176531.0</td>\n",
       "      <td>AUTOMATIC</td>\n",
       "      <td>BLACK</td>\n",
       "      <td>1000</td>\n",
       "    </tr>\n",
       "  </tbody>\n",
       "</table>\n",
       "</div>"
      ],
      "text/plain": [
       "                                  name   make  year   mileage transmission  \\\n",
       "5                  2004 HONDA CIVIC EX  HONDA  2004       0.0    AUTOMATIC   \n",
       "6   2009 DODGE JOURNEY SE Wagon 4 Door  DODGE  2009  216676.0    AUTOMATIC   \n",
       "11               2008 HONDA ACCORD EXL  HONDA  2008  265938.0    AUTOMATIC   \n",
       "12                  1999 FORD EXPLORER   FORD  1999  139990.0    AUTOMATIC   \n",
       "14               2010 DODGE CALIBER SX  DODGE  2010  176531.0    AUTOMATIC   \n",
       "\n",
       "   colour  price  \n",
       "5    GRAY   1000  \n",
       "6   GREEN   1000  \n",
       "11   GRAY   1000  \n",
       "12    RED   1000  \n",
       "14  BLACK   1000  "
      ]
     },
     "execution_count": 18,
     "metadata": {},
     "output_type": "execute_result"
    }
   ],
   "source": [
    "data.nlargest(5, 'price')"
   ]
  },
  {
   "cell_type": "code",
   "execution_count": 29,
   "metadata": {},
   "outputs": [
    {
     "data": {
      "text/html": [
       "<div>\n",
       "<style scoped>\n",
       "    .dataframe tbody tr th:only-of-type {\n",
       "        vertical-align: middle;\n",
       "    }\n",
       "\n",
       "    .dataframe tbody tr th {\n",
       "        vertical-align: top;\n",
       "    }\n",
       "\n",
       "    .dataframe thead th {\n",
       "        text-align: right;\n",
       "    }\n",
       "</style>\n",
       "<table border=\"1\" class=\"dataframe\">\n",
       "  <thead>\n",
       "    <tr style=\"text-align: right;\">\n",
       "      <th></th>\n",
       "      <th>name</th>\n",
       "      <th>make</th>\n",
       "      <th>year</th>\n",
       "      <th>mileage</th>\n",
       "      <th>transmission</th>\n",
       "      <th>colour</th>\n",
       "      <th>price</th>\n",
       "    </tr>\n",
       "  </thead>\n",
       "  <tbody>\n",
       "    <tr>\n",
       "      <th>1352</th>\n",
       "      <td>1989 BUICK REATTA Coupe</td>\n",
       "      <td>BUICK</td>\n",
       "      <td>1989</td>\n",
       "      <td>415811.0</td>\n",
       "      <td>AUTOMATIC</td>\n",
       "      <td>BLACK</td>\n",
       "      <td>850</td>\n",
       "    </tr>\n",
       "    <tr>\n",
       "      <th>1437</th>\n",
       "      <td>1989 BUICK REATTA Coupe</td>\n",
       "      <td>BUICK</td>\n",
       "      <td>1989</td>\n",
       "      <td>415811.0</td>\n",
       "      <td>AUTOMATIC</td>\n",
       "      <td>BLACK</td>\n",
       "      <td>850</td>\n",
       "    </tr>\n",
       "    <tr>\n",
       "      <th>19</th>\n",
       "      <td>2005 HONDA ACCORD LX</td>\n",
       "      <td>HONDA</td>\n",
       "      <td>2005</td>\n",
       "      <td>354898.0</td>\n",
       "      <td>AUTOMATIC</td>\n",
       "      <td>BLUE</td>\n",
       "      <td>599</td>\n",
       "    </tr>\n",
       "    <tr>\n",
       "      <th>627</th>\n",
       "      <td>2002 GMC YUKON</td>\n",
       "      <td>GMC</td>\n",
       "      <td>2002</td>\n",
       "      <td>348787.0</td>\n",
       "      <td>AUTOMATIC</td>\n",
       "      <td>WHITE</td>\n",
       "      <td>1000</td>\n",
       "    </tr>\n",
       "    <tr>\n",
       "      <th>468</th>\n",
       "      <td>1995 CHEVROLET K1500 Club Cab Pickup</td>\n",
       "      <td>CHEVROLET</td>\n",
       "      <td>1995</td>\n",
       "      <td>348540.0</td>\n",
       "      <td>AUTOMATIC</td>\n",
       "      <td>BLUE</td>\n",
       "      <td>800</td>\n",
       "    </tr>\n",
       "  </tbody>\n",
       "</table>\n",
       "</div>"
      ],
      "text/plain": [
       "                                      name       make  year   mileage  \\\n",
       "1352               1989 BUICK REATTA Coupe      BUICK  1989  415811.0   \n",
       "1437               1989 BUICK REATTA Coupe      BUICK  1989  415811.0   \n",
       "19                    2005 HONDA ACCORD LX      HONDA  2005  354898.0   \n",
       "627                         2002 GMC YUKON        GMC  2002  348787.0   \n",
       "468   1995 CHEVROLET K1500 Club Cab Pickup  CHEVROLET  1995  348540.0   \n",
       "\n",
       "     transmission colour  price  \n",
       "1352    AUTOMATIC  BLACK    850  \n",
       "1437    AUTOMATIC  BLACK    850  \n",
       "19      AUTOMATIC   BLUE    599  \n",
       "627     AUTOMATIC  WHITE   1000  \n",
       "468     AUTOMATIC   BLUE    800  "
      ]
     },
     "execution_count": 29,
     "metadata": {},
     "output_type": "execute_result"
    }
   ],
   "source": [
    "data.nlargest(5, 'mileage')"
   ]
  },
  {
   "cell_type": "code",
   "execution_count": 19,
   "metadata": {},
   "outputs": [
    {
     "data": {
      "text/html": [
       "<div>\n",
       "<style scoped>\n",
       "    .dataframe tbody tr th:only-of-type {\n",
       "        vertical-align: middle;\n",
       "    }\n",
       "\n",
       "    .dataframe tbody tr th {\n",
       "        vertical-align: top;\n",
       "    }\n",
       "\n",
       "    .dataframe thead th {\n",
       "        text-align: right;\n",
       "    }\n",
       "</style>\n",
       "<table border=\"1\" class=\"dataframe\">\n",
       "  <thead>\n",
       "    <tr style=\"text-align: right;\">\n",
       "      <th></th>\n",
       "      <th>year</th>\n",
       "      <th>mileage</th>\n",
       "      <th>price</th>\n",
       "    </tr>\n",
       "  </thead>\n",
       "  <tbody>\n",
       "    <tr>\n",
       "      <th>year</th>\n",
       "      <td>1.000000</td>\n",
       "      <td>-0.097968</td>\n",
       "      <td>0.060512</td>\n",
       "    </tr>\n",
       "    <tr>\n",
       "      <th>mileage</th>\n",
       "      <td>-0.097968</td>\n",
       "      <td>1.000000</td>\n",
       "      <td>0.026938</td>\n",
       "    </tr>\n",
       "    <tr>\n",
       "      <th>price</th>\n",
       "      <td>0.060512</td>\n",
       "      <td>0.026938</td>\n",
       "      <td>1.000000</td>\n",
       "    </tr>\n",
       "  </tbody>\n",
       "</table>\n",
       "</div>"
      ],
      "text/plain": [
       "             year   mileage     price\n",
       "year     1.000000 -0.097968  0.060512\n",
       "mileage -0.097968  1.000000  0.026938\n",
       "price    0.060512  0.026938  1.000000"
      ]
     },
     "execution_count": 19,
     "metadata": {},
     "output_type": "execute_result"
    }
   ],
   "source": [
    "corr = data.corr()\n",
    "corr"
   ]
  },
  {
   "cell_type": "code",
   "execution_count": 20,
   "metadata": {},
   "outputs": [
    {
     "data": {
      "image/png": "[encoded data removed]",
      "text/plain": [
       "<Figure size 432x288 with 2 Axes>"
      ]
     },
     "metadata": {
      "needs_background": "light"
     },
     "output_type": "display_data"
    }
   ],
   "source": [
    "# heat map\n",
    "sns.heatmap(corr, \n",
    "        xticklabels=corr.columns,\n",
    "        yticklabels=corr.columns);"
   ]
  },
  {
   "cell_type": "code",
   "execution_count": 41,
   "metadata": {},
   "outputs": [
    {
     "data": {
      "image/png": "[encoded data removed]",
      "text/plain": [
       "<Figure size 720x720 with 1 Axes>"
      ]
     },
     "metadata": {
      "needs_background": "light"
     },
     "output_type": "display_data"
    }
   ],
   "source": [
    "# car make with the highest numbers of cars available\n",
    "fig = plt.figure(figsize=(10, 10))\n",
    "sns.countplot(data.make);\n",
    "plt.title(\"Distribution of car make\")\n",
    "plt.xticks(rotation=90);"
   ]
  },
  {
   "cell_type": "code",
   "execution_count": 22,
   "metadata": {},
   "outputs": [
    {
     "data": {
      "text/plain": [
       "CHEVROLET        726\n",
       "FORD             279\n",
       "DODGE            235\n",
       "HONDA            142\n",
       "CHRYSLER         140\n",
       "CADILLAC         121\n",
       "BUICK             51\n",
       "NISSAN            50\n",
       "JEEP              48\n",
       "BMW               44\n",
       "HYUNDAI           35\n",
       "TOYOTA            32\n",
       "ACURA             29\n",
       "AUDI              25\n",
       "KIA               15\n",
       "DATSUN            14\n",
       "MITSUBISHI        12\n",
       "SUZUKI            10\n",
       "GMC               10\n",
       "LINCOLN            8\n",
       "MAZDA              7\n",
       "LEXUS              4\n",
       "SUBARU             3\n",
       "MERCEDES-BENZ      3\n",
       "MERCURY            3\n",
       "INFINITI           3\n",
       "LAND-ROVER         2\n",
       "OLDSMOBILE         1\n",
       "PONTIAC            1\n",
       "SATURN             1\n",
       "Name: make, dtype: int64"
      ]
     },
     "execution_count": 22,
     "metadata": {},
     "output_type": "execute_result"
    }
   ],
   "source": [
    "# Categorical variable \n",
    "data.make.value_counts()"
   ]
  },
  {
   "cell_type": "code",
   "execution_count": 23,
   "metadata": {},
   "outputs": [
    {
     "data": {
      "image/png": "[encoded data removed]",
      "text/plain": [
       "<Figure size 576x360 with 1 Axes>"
      ]
     },
     "metadata": {
      "needs_background": "light"
     },
     "output_type": "display_data"
    }
   ],
   "source": [
    "# car make with the highest numbers of cars available\n",
    "fig = plt.figure(figsize=(8, 5))\n",
    "sns.countplot(data.transmission);\n",
    "plt.title(\"Distribution of car transmission\")\n",
    "plt.xticks(rotation=90);"
   ]
  },
  {
   "cell_type": "code",
   "execution_count": 24,
   "metadata": {},
   "outputs": [
    {
     "data": {
      "text/plain": [
       "AUTOMATIC    1991\n",
       "MANUAL         63\n",
       "Name: transmission, dtype: int64"
      ]
     },
     "execution_count": 24,
     "metadata": {},
     "output_type": "execute_result"
    }
   ],
   "source": [
    "# Categorical variable \n",
    "data.transmission.value_counts()"
   ]
  },
  {
   "cell_type": "code",
   "execution_count": 33,
   "metadata": {},
   "outputs": [
    {
     "data": {
      "text/html": [
       "<div>\n",
       "<style scoped>\n",
       "    .dataframe tbody tr th:only-of-type {\n",
       "        vertical-align: middle;\n",
       "    }\n",
       "\n",
       "    .dataframe tbody tr th {\n",
       "        vertical-align: top;\n",
       "    }\n",
       "\n",
       "    .dataframe thead th {\n",
       "        text-align: right;\n",
       "    }\n",
       "</style>\n",
       "<table border=\"1\" class=\"dataframe\">\n",
       "  <thead>\n",
       "    <tr style=\"text-align: right;\">\n",
       "      <th></th>\n",
       "      <th>price</th>\n",
       "    </tr>\n",
       "    <tr>\n",
       "      <th>make</th>\n",
       "      <th></th>\n",
       "    </tr>\n",
       "  </thead>\n",
       "  <tbody>\n",
       "    <tr>\n",
       "      <th>ACURA</th>\n",
       "      <td>790.482759</td>\n",
       "    </tr>\n",
       "    <tr>\n",
       "      <th>AUDI</th>\n",
       "      <td>750.280000</td>\n",
       "    </tr>\n",
       "    <tr>\n",
       "      <th>BMW</th>\n",
       "      <td>836.159091</td>\n",
       "    </tr>\n",
       "    <tr>\n",
       "      <th>BUICK</th>\n",
       "      <td>606.196078</td>\n",
       "    </tr>\n",
       "    <tr>\n",
       "      <th>CADILLAC</th>\n",
       "      <td>729.132231</td>\n",
       "    </tr>\n",
       "    <tr>\n",
       "      <th>CHEVROLET</th>\n",
       "      <td>754.103306</td>\n",
       "    </tr>\n",
       "    <tr>\n",
       "      <th>CHRYSLER</th>\n",
       "      <td>686.064286</td>\n",
       "    </tr>\n",
       "    <tr>\n",
       "      <th>DATSUN</th>\n",
       "      <td>792.857143</td>\n",
       "    </tr>\n",
       "    <tr>\n",
       "      <th>DODGE</th>\n",
       "      <td>817.765957</td>\n",
       "    </tr>\n",
       "    <tr>\n",
       "      <th>FORD</th>\n",
       "      <td>794.222222</td>\n",
       "    </tr>\n",
       "    <tr>\n",
       "      <th>GMC</th>\n",
       "      <td>777.500000</td>\n",
       "    </tr>\n",
       "    <tr>\n",
       "      <th>HONDA</th>\n",
       "      <td>739.598592</td>\n",
       "    </tr>\n",
       "    <tr>\n",
       "      <th>HYUNDAI</th>\n",
       "      <td>810.714286</td>\n",
       "    </tr>\n",
       "    <tr>\n",
       "      <th>INFINITI</th>\n",
       "      <td>733.333333</td>\n",
       "    </tr>\n",
       "    <tr>\n",
       "      <th>JEEP</th>\n",
       "      <td>773.229167</td>\n",
       "    </tr>\n",
       "    <tr>\n",
       "      <th>KIA</th>\n",
       "      <td>768.333333</td>\n",
       "    </tr>\n",
       "    <tr>\n",
       "      <th>LAND-ROVER</th>\n",
       "      <td>612.500000</td>\n",
       "    </tr>\n",
       "    <tr>\n",
       "      <th>LEXUS</th>\n",
       "      <td>831.250000</td>\n",
       "    </tr>\n",
       "    <tr>\n",
       "      <th>LINCOLN</th>\n",
       "      <td>856.125000</td>\n",
       "    </tr>\n",
       "    <tr>\n",
       "      <th>MAZDA</th>\n",
       "      <td>707.142857</td>\n",
       "    </tr>\n",
       "    <tr>\n",
       "      <th>MERCEDES-BENZ</th>\n",
       "      <td>616.666667</td>\n",
       "    </tr>\n",
       "    <tr>\n",
       "      <th>MERCURY</th>\n",
       "      <td>850.000000</td>\n",
       "    </tr>\n",
       "    <tr>\n",
       "      <th>MITSUBISHI</th>\n",
       "      <td>727.083333</td>\n",
       "    </tr>\n",
       "    <tr>\n",
       "      <th>NISSAN</th>\n",
       "      <td>802.500000</td>\n",
       "    </tr>\n",
       "    <tr>\n",
       "      <th>OLDSMOBILE</th>\n",
       "      <td>825.000000</td>\n",
       "    </tr>\n",
       "    <tr>\n",
       "      <th>PONTIAC</th>\n",
       "      <td>625.000000</td>\n",
       "    </tr>\n",
       "    <tr>\n",
       "      <th>SATURN</th>\n",
       "      <td>875.000000</td>\n",
       "    </tr>\n",
       "    <tr>\n",
       "      <th>SUBARU</th>\n",
       "      <td>800.000000</td>\n",
       "    </tr>\n",
       "    <tr>\n",
       "      <th>SUZUKI</th>\n",
       "      <td>775.000000</td>\n",
       "    </tr>\n",
       "    <tr>\n",
       "      <th>TOYOTA</th>\n",
       "      <td>804.687500</td>\n",
       "    </tr>\n",
       "  </tbody>\n",
       "</table>\n",
       "</div>"
      ],
      "text/plain": [
       "                    price\n",
       "make                     \n",
       "ACURA          790.482759\n",
       "AUDI           750.280000\n",
       "BMW            836.159091\n",
       "BUICK          606.196078\n",
       "CADILLAC       729.132231\n",
       "CHEVROLET      754.103306\n",
       "CHRYSLER       686.064286\n",
       "DATSUN         792.857143\n",
       "DODGE          817.765957\n",
       "FORD           794.222222\n",
       "GMC            777.500000\n",
       "HONDA          739.598592\n",
       "HYUNDAI        810.714286\n",
       "INFINITI       733.333333\n",
       "JEEP           773.229167\n",
       "KIA            768.333333\n",
       "LAND-ROVER     612.500000\n",
       "LEXUS          831.250000\n",
       "LINCOLN        856.125000\n",
       "MAZDA          707.142857\n",
       "MERCEDES-BENZ  616.666667\n",
       "MERCURY        850.000000\n",
       "MITSUBISHI     727.083333\n",
       "NISSAN         802.500000\n",
       "OLDSMOBILE     825.000000\n",
       "PONTIAC        625.000000\n",
       "SATURN         875.000000\n",
       "SUBARU         800.000000\n",
       "SUZUKI         775.000000\n",
       "TOYOTA         804.687500"
      ]
     },
     "execution_count": 33,
     "metadata": {},
     "output_type": "execute_result"
    }
   ],
   "source": [
    "# create a pivot table to find the average price per car make\n",
    "data.pivot_table(values='price', index='make', aggfunc='mean')"
   ]
  },
  {
   "cell_type": "code",
   "execution_count": 35,
   "metadata": {},
   "outputs": [],
   "source": [
    "from wordcloud import WordCloud, STOPWORDS"
   ]
  },
  {
   "cell_type": "code",
   "execution_count": 50,
   "metadata": {},
   "outputs": [
    {
     "ename": "TypeError",
     "evalue": "'numpy.ndarray' object is not callable",
     "output_type": "error",
     "traceback": [
      "\u001b[1;31m---------------------------------------------------------------------------\u001b[0m",
      "\u001b[1;31mTypeError\u001b[0m                                 Traceback (most recent call last)",
      "\u001b[1;32m<ipython-input-50-b4cc8f694eb7>\u001b[0m in \u001b[0;36m<module>\u001b[1;34m\u001b[0m\n\u001b[0;32m      1\u001b[0m \u001b[0mplt\u001b[0m\u001b[1;33m.\u001b[0m\u001b[0msubplots\u001b[0m\u001b[1;33m(\u001b[0m\u001b[0mfigsize\u001b[0m\u001b[1;33m=\u001b[0m\u001b[1;33m(\u001b[0m\u001b[1;36m8\u001b[0m\u001b[1;33m,\u001b[0m\u001b[1;36m4\u001b[0m\u001b[1;33m)\u001b[0m\u001b[1;33m)\u001b[0m\u001b[1;33m\u001b[0m\u001b[1;33m\u001b[0m\u001b[0m\n\u001b[1;32m----> 2\u001b[1;33m \u001b[0mtext\u001b[0m \u001b[1;33m=\u001b[0m \u001b[0mdata\u001b[0m\u001b[1;33m[\u001b[0m\u001b[1;34m'make'\u001b[0m\u001b[1;33m]\u001b[0m\u001b[1;33m.\u001b[0m\u001b[0mvalues\u001b[0m\u001b[1;33m(\u001b[0m\u001b[1;33m)\u001b[0m\u001b[1;33m\u001b[0m\u001b[1;33m\u001b[0m\u001b[0m\n\u001b[0m\u001b[0;32m      3\u001b[0m \u001b[0mwordcloud\u001b[0m \u001b[1;33m=\u001b[0m \u001b[0mWordCloud\u001b[0m\u001b[1;33m(\u001b[0m\u001b[0mmax_font_size\u001b[0m\u001b[1;33m=\u001b[0m\u001b[1;36m50\u001b[0m\u001b[1;33m,\u001b[0m \u001b[0mmax_words\u001b[0m\u001b[1;33m=\u001b[0m\u001b[1;36m100\u001b[0m\u001b[1;33m,\u001b[0m \u001b[0mbackground_color\u001b[0m\u001b[1;33m=\u001b[0m\u001b[1;34m\"white\"\u001b[0m\u001b[1;33m)\u001b[0m\u001b[1;33m.\u001b[0m\u001b[0mgenerate\u001b[0m\u001b[1;33m(\u001b[0m\u001b[0mtext\u001b[0m\u001b[1;33m)\u001b[0m\u001b[1;33m\u001b[0m\u001b[1;33m\u001b[0m\u001b[0m\n\u001b[0;32m      4\u001b[0m \u001b[0mplt\u001b[0m\u001b[1;33m.\u001b[0m\u001b[0mfigure\u001b[0m\u001b[1;33m(\u001b[0m\u001b[1;33m)\u001b[0m\u001b[1;33m\u001b[0m\u001b[1;33m\u001b[0m\u001b[0m\n\u001b[0;32m      5\u001b[0m \u001b[0mplt\u001b[0m\u001b[1;33m.\u001b[0m\u001b[0mimshow\u001b[0m\u001b[1;33m(\u001b[0m\u001b[0mwordcloud\u001b[0m\u001b[1;33m,\u001b[0m \u001b[0minterpolation\u001b[0m\u001b[1;33m=\u001b[0m\u001b[1;34m\"bilinear\"\u001b[0m\u001b[1;33m)\u001b[0m\u001b[1;33m\u001b[0m\u001b[1;33m\u001b[0m\u001b[0m\n",
      "\u001b[1;31mTypeError\u001b[0m: 'numpy.ndarray' object is not callable"
     ]
    },
    {
     "data": {
      "image/png": "[encoded data removed]",
      "text/plain": [
       "<Figure size 576x288 with 1 Axes>"
      ]
     },
     "metadata": {
      "needs_background": "light"
     },
     "output_type": "display_data"
    }
   ],
   "source": [
    "plt.subplots(figsize=(8,4))\n",
    "text = data['make']\n",
    "wordcloud = WordCloud(max_font_size=50, max_words=100, background_color=\"white\").generate(text)\n",
    "plt.figure()\n",
    "plt.imshow(wordcloud, interpolation=\"bilinear\")\n",
    "plt.axis(\"off\")\n",
    "plt.show()"
   ]
  },
  {
   "cell_type": "code",
   "execution_count": null,
   "metadata": {},
   "outputs": [],
   "source": []
  }
 ],
 "metadata": {
  "kernelspec": {
   "display_name": "Python 3",
   "language": "python",
   "name": "python3"
  },
  "language_info": {
   "codemirror_mode": {
    "name": "ipython",
    "version": 3
   },
   "file_extension": ".py",
   "mimetype": "text/x-python",
   "name": "python",
   "nbconvert_exporter": "python",
   "pygments_lexer": "ipython3",
   "version": "3.8.5"
  }
 },
 "nbformat": 4,
 "nbformat_minor": 4
}
